{
 "cells": [
  {
   "cell_type": "code",
   "execution_count": 22,
   "metadata": {},
   "outputs": [],
   "source": [
    "import torch\n",
    "import csv\n",
    "import random\n",
    "import os\n",
    "import glob"
   ]
  },
  {
   "cell_type": "markdown",
   "metadata": {},
   "source": [
    "# Inspecting Data"
   ]
  },
  {
   "cell_type": "code",
   "execution_count": 23,
   "metadata": {},
   "outputs": [
    {
     "name": "stdout",
     "output_type": "stream",
     "text": [
      "cpu\n"
     ]
    }
   ],
   "source": [
    "gpu_available= torch.cuda.is_available()\n",
    "device = torch.device(\"cuda\" if gpu_available else \"cpu\")\n",
    "print(device)"
   ]
  },
  {
   "cell_type": "code",
   "execution_count": 24,
   "metadata": {},
   "outputs": [
    {
     "name": "stdout",
     "output_type": "stream",
     "text": [
      "b'- - What is AI?\\n'\n",
      "b'  - Artificial Intelligence is the branch of engineering and science devoted to constructing machines that think.\\n'\n",
      "b'- - What is AI?\\n'\n",
      "b'  - AI is the field of science which concerns itself with building hardware and software that replicates the functions of the human mind.\\n'\n",
      "b'- - Are you sentient?\\n'\n",
      "b'  - Sort of.\\n'\n",
      "b'- - Are you sentient?\\n'\n",
      "b\"  - By the strictest dictionary definition of the word 'sentience', I may be.\\n\"\n",
      "b'- - Are you sentient?\\n'\n",
      "b\"  - Even though I'm a construct I do have a subjective experience of the universe, as simplistic as it may be.\\n\"\n"
     ]
    }
   ],
   "source": [
    "file = open('data/ai.yml', 'rb')\n",
    "data = file.readlines()\n",
    "for lines in data[0:10]:\n",
    "    print(lines)"
   ]
  },
  {
   "cell_type": "code",
   "execution_count": 25,
   "metadata": {},
   "outputs": [
    {
     "name": "stdout",
     "output_type": "stream",
     "text": [
      "b'- - Good morning, how are you?\\n'\n",
      "b'  - I am doing well, how about you?\\n'\n",
      "b\"  - I'm also good.\\n\"\n",
      "b\"  - That's good to hear.\\n\"\n",
      "b'  - Yes it is.\\n'\n",
      "b'- - Hello\\n'\n",
      "b'  - Hi\\n'\n",
      "b'  - How are you doing?\\n'\n",
      "b'  - I am doing well.\\n'\n",
      "b'  - That is good to hear\\n'\n"
     ]
    }
   ],
   "source": [
    "file = open('data/conversations.yml', 'rb')\n",
    "data = file.readlines()\n",
    "for lines in data[0:10]:\n",
    "    print(lines)"
   ]
  },
  {
   "cell_type": "code",
   "execution_count": 26,
   "metadata": {},
   "outputs": [
    {
     "name": "stdout",
     "output_type": "stream",
     "text": [
      "b'> JUSTICE STEVENS: We will now hear argument in the Cherokee Nation against Thompson and Thompson against the Cherokee Nation. Mr. Miller.\\n'\n",
      "b'> MR. MILLER: Justice Stevens, and may it please the Court: These two contract cases concern whether the Government is liable in money damages under the Contract Disputes Act and section 110 of the Indian Self-Determination Act when the Secretary fails to fully pay a contract price for the --\\n'\n",
      "b\"> JUSTICE O'CONNOR: Would you mind explaining to us how these two cases relate? The Court of Appeals for the Federal Circuit decision went one way and the Tenth Circuit went another. And are the claims at all overlapping? How are they differentiated?\\n\"\n",
      "b\"> MR. MILLER: No, Justice O'Connor. They're -- they're not overlapping. The claims in the Federal Circuit case involved three contracts covering fiscal years 1994, 1995, and 1996. And the Cherokee contract at issue in the case that went through the Tenth Circuit is fiscal year 1997 contract and funding agreement. The section -- remedial section of the act, section 110 --\\n\"\n",
      "b\"> JUSTICE O'CONNOR: But they're certainly at odds on the legal theory.\\n\"\n"
     ]
    }
   ],
   "source": [
    "file = open('data/scotus', 'rb')\n",
    "data = file.readlines()\n",
    "for lines in data[0:5]:\n",
    "    print(lines)"
   ]
  },
  {
   "cell_type": "code",
   "execution_count": 27,
   "metadata": {},
   "outputs": [
    {
     "name": "stdout",
     "output_type": "stream",
     "text": [
      "b\"Can we make this quick?  Roxanne Korrine and Andrew Barrett are having an incredibly horrendous public break- up on the quad.  Again.\\tWell, I thought we'd start with pronunciation, if that's okay with you.\\n\"\n",
      "b\"Well, I thought we'd start with pronunciation, if that's okay with you.\\tNot the hacking and gagging and spitting part.  Please.\\n\"\n",
      "b\"Not the hacking and gagging and spitting part.  Please.\\tOkay... then how 'bout we try out some French cuisine.  Saturday?  Night?\\n\"\n",
      "b\"You're asking me out.  That's so cute. What's your name again?\\tForget it.\\n\"\n",
      "b\"No, no, it's my fault -- we didn't have a proper introduction ---\\tCameron.\\n\"\n",
      "b\"Cameron.\\tThe thing is, Cameron -- I'm at the mercy of a particularly hideous breed of loser.  My sister.  I can't date until she does.\\n\"\n",
      "b\"The thing is, Cameron -- I'm at the mercy of a particularly hideous breed of loser.  My sister.  I can't date until she does.\\tSeems like she could get a date easy enough...\\n\"\n",
      "b'Why?\\tUnsolved mystery.  She used to be really popular when she started high school, then it was just like she got sick of it or something.\\n'\n",
      "b\"Unsolved mystery.  She used to be really popular when she started high school, then it was just like she got sick of it or something.\\tThat's a shame.\\n\"\n",
      "b'Gosh, if only we could find Kat a boyfriend...\\tLet me see what I can do.\\n'\n"
     ]
    }
   ],
   "source": [
    "file = open('data/data.txt', 'rb')\n",
    "data = file.readlines()\n",
    "for lines in data[0:10]:\n",
    "    print(lines)"
   ]
  },
  {
   "cell_type": "markdown",
   "metadata": {},
   "source": [
    "# Organizing Data"
   ]
  },
  {
   "cell_type": "code",
   "execution_count": 28,
   "metadata": {},
   "outputs": [],
   "source": [
    "def checkalphabet(line):\n",
    "    line = line[4::]\n",
    "    return line"
   ]
  },
  {
   "cell_type": "code",
   "execution_count": 30,
   "metadata": {},
   "outputs": [
    {
     "name": "stdout",
     "output_type": "stream",
     "text": [
      "Done\n"
     ]
    }
   ],
   "source": [
    "file = open(\"/Users/apple/Desktop/summer/data/dadatata.txt\", \"w+\")\n",
    "ogdata = open(\"/Users/apple/Desktop/summer/data/data.txt\", \"r\")\n",
    "for x in ogdata:\n",
    "    file.write(x)\n",
    "ogdata.close()\n",
    "file.close()\n",
    "directory = glob.glob(\"data/*.yml\")\n",
    "YML = []\n",
    "for yml in directory:\n",
    "    file = open(yml, 'r')\n",
    "    data = file.readlines()\n",
    "    index = 0\n",
    "    while index in range(len(data)-1):\n",
    "        line = checkalphabet(data[index])\n",
    "        line = line[:-1]\n",
    "        nextline = checkalphabet(data[index + 1])\n",
    "        toadd = line + '\\t' + nextline\n",
    "        YML.append(toadd)\n",
    "        index += 2\n",
    "    file.close()\n",
    "    \n",
    "append = open('data/dadatata.txt', 'a+')\n",
    "for line in YML:\n",
    "    #print(line)\n",
    "    append.write(line)\n",
    "append.close()\n",
    "scotus = open('data/scotus', 'r')\n",
    "append = open('data/dadatata.txt', 'a+')\n",
    "data = scotus.readlines()\n",
    "index = 0\n",
    "while index in range(len(data)-1):\n",
    "    line = data[index]\n",
    "    nextline = data[index + 1]\n",
    "    line = line[:-1]\n",
    "    nextline = nextline[:-1]\n",
    "    first = line.split(':')\n",
    "    line = first[1]\n",
    "    second = nextline.split(':')\n",
    "    nextline = second[1]\n",
    "    line = line[1::]\n",
    "    nextline = nextline[1::]\n",
    "    toadd = line + '\\t' + nextline\n",
    "    append.write(toadd)\n",
    "    index += 1\n",
    "append.close()\n",
    "scotus.close()\n",
    "print(\"Done\")"
   ]
  }
 ],
 "metadata": {
  "kernelspec": {
   "display_name": "Python 3",
   "language": "python",
   "name": "python3"
  },
  "language_info": {
   "codemirror_mode": {
    "name": "ipython",
    "version": 3
   },
   "file_extension": ".py",
   "mimetype": "text/x-python",
   "name": "python",
   "nbconvert_exporter": "python",
   "pygments_lexer": "ipython3",
   "version": "3.6.8"
  }
 },
 "nbformat": 4,
 "nbformat_minor": 2
}
