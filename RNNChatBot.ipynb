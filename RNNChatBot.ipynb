{
  "nbformat": 4,
  "nbformat_minor": 0,
  "metadata": {
    "colab": {
      "name": "RNNChatBot.ipynb",
      "version": "0.3.2",
      "provenance": [],
      "collapsed_sections": []
    },
    "kernelspec": {
      "name": "python3",
      "display_name": "Python 3"
    },
    "accelerator": "GPU"
  },
  "cells": [
    {
      "cell_type": "code",
      "metadata": {
        "id": "iZ2knTRUcYEn",
        "colab_type": "code",
        "outputId": "e6be12af-cfdb-4ec0-f47f-2450a78a342c",
        "colab": {
          "base_uri": "https://localhost:8080/",
          "height": 34
        }
      },
      "source": [
        "from __future__ import absolute_import\n",
        "from __future__ import division\n",
        "from __future__ import print_function\n",
        "from __future__ import unicode_literals\n",
        "\n",
        "import torch\n",
        "from torch.jit import script, trace\n",
        "import torch.nn as nn\n",
        "from torch import optim\n",
        "import torch.nn.functional as F\n",
        "import csv\n",
        "import random\n",
        "import os\n",
        "import codecs\n",
        "from io import open\n",
        "import itertools\n",
        "import math\n",
        "\n",
        "\n",
        "USE_CUDA = torch.cuda.is_available()\n",
        "device = torch.device(\"cuda\" if USE_CUDA else \"cpu\")\n",
        "print(device)"
      ],
      "execution_count": 162,
      "outputs": [
        {
          "output_type": "stream",
          "text": [
            "cuda\n"
          ],
          "name": "stdout"
        }
      ]
    },
    {
      "cell_type": "code",
      "metadata": {
        "id": "NOpeDlRecjOA",
        "colab_type": "code",
        "colab": {}
      },
      "source": [
        "Start_token = 0 #**\n",
        "End_token = 1 #EOS\n",
        "Padding_token = 2 #//\n",
        "\n",
        "class Voc:\n",
        "    def __init__(self):\n",
        "        self.wordindex = {}\n",
        "        self.wordcount = {}\n",
        "        self.indexword = {0: \"**\", 1: \"EOS\", 2:\"//\"}\n",
        "        self.num_words = 3  # Count SOS and EOS\n",
        "\n",
        "    def addSentence(self, sentence):\n",
        "        for word in sentence.split(' '):\n",
        "            self.addWord(word)\n",
        "\n",
        "    def addWord(self, word):\n",
        "        if word not in self.wordindex:\n",
        "            self.wordindex[word] = self.num_words\n",
        "            self.wordcount[word] = 1\n",
        "            self.indexword[self.num_words] = word\n",
        "            self.num_words += 1\n",
        "        else:\n",
        "            self.wordcount[word] += 1"
      ],
      "execution_count": 0,
      "outputs": []
    },
    {
      "cell_type": "code",
      "metadata": {
        "id": "G0B1gjJccu74",
        "colab_type": "code",
        "colab": {}
      },
      "source": [
        "# http://stackoverflow.com/a/518232/2809427\n",
        "import unicodedata\n",
        "def unicodeToAscii(s):\n",
        "    return ''.join(\n",
        "        c for c in unicodedata.normalize('NFD', s)\n",
        "        if unicodedata.category(c) != 'Mn'\n",
        "    )\n",
        "\n",
        "def normalizeString(s):\n",
        "    s = unicodeToAscii(s.lower().strip())\n",
        "    s = re.sub(r\"([.!?])\", r\" \\1\", s)\n",
        "    s = re.sub(r\"[^a-zA-Z.!?]+\", r\" \", s)\n",
        "    s = re.sub(r\"\\s+\", r\" \", s).strip()\n",
        "    return s"
      ],
      "execution_count": 0,
      "outputs": []
    },
    {
      "cell_type": "code",
      "metadata": {
        "id": "zFJif93DcwZG",
        "colab_type": "code",
        "outputId": "99d62606-3703-4d43-dd6d-dda98722695e",
        "colab": {
          "base_uri": "https://localhost:8080/",
          "height": 51
        }
      },
      "source": [
        "print(\"Reading lines...\")\n",
        "lines = open('formatted_movie_lines.txt', 'r', encoding='utf-8')\n",
        "lines = lines.read().strip().split('\\n')\n",
        "print(\"total lines are \" + str(len(lines)))"
      ],
      "execution_count": 165,
      "outputs": [
        {
          "output_type": "stream",
          "text": [
            "Reading lines...\n",
            "total lines are 327156\n"
          ],
          "name": "stdout"
        }
      ]
    },
    {
      "cell_type": "code",
      "metadata": {
        "id": "2p0z7mC83mP9",
        "colab_type": "code",
        "outputId": "b759cc91-71a5-4f21-f7c9-c6c3756d2309",
        "colab": {
          "base_uri": "https://localhost:8080/",
          "height": 34
        }
      },
      "source": [
        "import re\n",
        "print(\"Preprocessing lines...\")\n",
        "pairs = [[normalizeString(s) for s in l.split('\\t')] for l in lines]"
      ],
      "execution_count": 166,
      "outputs": [
        {
          "output_type": "stream",
          "text": [
            "Preprocessing lines...\n"
          ],
          "name": "stdout"
        }
      ]
    },
    {
      "cell_type": "code",
      "metadata": {
        "id": "YP-dQ8bm3oBE",
        "colab_type": "code",
        "colab": {}
      },
      "source": [
        "newpairs = []\n",
        "for pair in pairs:\n",
        "    newpair = []\n",
        "    index = 0\n",
        "    while index in range(len(pair)):\n",
        "        if(pair[index] != ''):\n",
        "            newpair.append(pair[index])\n",
        "        index +=1\n",
        "    newpairs.append(newpair)"
      ],
      "execution_count": 0,
      "outputs": []
    },
    {
      "cell_type": "code",
      "metadata": {
        "id": "_LhMW-zk3pQG",
        "colab_type": "code",
        "colab": {}
      },
      "source": [
        "vocab = Voc()"
      ],
      "execution_count": 0,
      "outputs": []
    },
    {
      "cell_type": "code",
      "metadata": {
        "id": "1kl80_lv3qv0",
        "colab_type": "code",
        "outputId": "0bbbe79b-7cbb-4cd5-f2d3-6135f3154c6a",
        "colab": {
          "base_uri": "https://localhost:8080/",
          "height": 34
        }
      },
      "source": [
        "threshold = 12\n",
        "line_pairs = []\n",
        "for pair in pairs:\n",
        "    check1 = False\n",
        "    check2 = False\n",
        "    #print(pair)\n",
        "    if len(pair) != 2:\n",
        "        continue\n",
        "    else:\n",
        "        if len(pair[0].split(' ')) < threshold:\n",
        "            check1 = True\n",
        "        if len(pair[1].split(' ')) < threshold:\n",
        "            check2 = True\n",
        "        if check1 and check2:\n",
        "            line_pairs.append(pair)\n",
        "print(\"Line Pairs are \" + str(len(line_pairs)))"
      ],
      "execution_count": 169,
      "outputs": [
        {
          "output_type": "stream",
          "text": [
            "Line Pairs are 101411\n"
          ],
          "name": "stdout"
        }
      ]
    },
    {
      "cell_type": "code",
      "metadata": {
        "id": "GeXt1mXF3sv1",
        "colab_type": "code",
        "outputId": "75c70190-5ec0-4884-ef3c-c633f5f3eb75",
        "colab": {
          "base_uri": "https://localhost:8080/",
          "height": 34
        }
      },
      "source": [
        "for line in line_pairs:\n",
        "    vocab.addSentence(line[0])\n",
        "    vocab.addSentence(line[1])\n",
        "print(\"Total number of words:\", vocab.num_words)"
      ],
      "execution_count": 170,
      "outputs": [
        {
          "output_type": "stream",
          "text": [
            "Total number of words: 23356\n"
          ],
          "name": "stdout"
        }
      ]
    },
    {
      "cell_type": "code",
      "metadata": {
        "id": "ee1PdmYk3wdZ",
        "colab_type": "code",
        "outputId": "b1f3c344-2601-4cdd-eebd-84c4d4d99a04",
        "colab": {
          "base_uri": "https://localhost:8080/",
          "height": 207
        }
      },
      "source": [
        "for line in lines[:10]:\n",
        "    print(line)\n",
        "pairs = line_pairs"
      ],
      "execution_count": 171,
      "outputs": [
        {
          "output_type": "stream",
          "text": [
            "Can we make this quick?  Roxanne Korrine and Andrew Barrett are having an incredibly horrendous public break- up on the quad.  Again.\tWell, I thought we'd start with pronunciation, if that's okay with you.\n",
            "Well, I thought we'd start with pronunciation, if that's okay with you.\tNot the hacking and gagging and spitting part.  Please.\n",
            "Not the hacking and gagging and spitting part.  Please.\tOkay... then how 'bout we try out some French cuisine.  Saturday?  Night?\n",
            "You're asking me out.  That's so cute. What's your name again?\tForget it.\n",
            "No, no, it's my fault -- we didn't have a proper introduction ---\tCameron.\n",
            "Cameron.\tThe thing is, Cameron -- I'm at the mercy of a particularly hideous breed of loser.  My sister.  I can't date until she does.\n",
            "The thing is, Cameron -- I'm at the mercy of a particularly hideous breed of loser.  My sister.  I can't date until she does.\tSeems like she could get a date easy enough...\n",
            "Why?\tUnsolved mystery.  She used to be really popular when she started high school, then it was just like she got sick of it or something.\n",
            "Unsolved mystery.  She used to be really popular when she started high school, then it was just like she got sick of it or something.\tThat's a shame.\n",
            "Gosh, if only we could find Kat a boyfriend...\tLet me see what I can do.\n"
          ],
          "name": "stdout"
        }
      ]
    },
    {
      "cell_type": "code",
      "metadata": {
        "id": "enmQutEU30rg",
        "colab_type": "code",
        "outputId": "2e84889f-833d-4933-88e5-30b67c5a5cbc",
        "colab": {
          "base_uri": "https://localhost:8080/",
          "height": 34
        }
      },
      "source": [
        "keep_pairs = []\n",
        "for pair in pairs:\n",
        "    input_sentence = pair[0]\n",
        "    output_sentence = pair[1]\n",
        "    keep_input = True\n",
        "    keep_output = True\n",
        "    # Check input sentence\n",
        "    for word in input_sentence.split(' '):\n",
        "        if word not in vocab.wordindex:\n",
        "            keep_input = False\n",
        "            break\n",
        "        # Check output sentence\n",
        "    for word in output_sentence.split(' '):\n",
        "        if word not in vocab.wordindex:\n",
        "            keep_output = False\n",
        "            break\n",
        "\n",
        "    # Only keep pairs that do not contain trimmed word(s) in their input or output sentence\n",
        "    if keep_input and keep_output:\n",
        "        keep_pairs.append(pair)\n",
        "\n",
        "print(\"Trimmed from {} pairs to {}, {:.4f} of total\".format(len(pairs), len(keep_pairs), len(keep_pairs) / len(pairs)))\n",
        "pairs =  keep_pairs"
      ],
      "execution_count": 172,
      "outputs": [
        {
          "output_type": "stream",
          "text": [
            "Trimmed from 101411 pairs to 101411, 1.0000 of total\n"
          ],
          "name": "stdout"
        }
      ]
    },
    {
      "cell_type": "code",
      "metadata": {
        "id": "BhNY1e6131Tl",
        "colab_type": "code",
        "colab": {}
      },
      "source": [
        "def indexesFromSentence(voc, sentence):\n",
        "    return [voc.wordindex[word] for word in sentence.split(' ')] + [End_token]\n",
        "\n",
        "\n",
        "def zeroPadding(l, fillvalue=Padding_token):\n",
        "    return list(itertools.zip_longest(*l, fillvalue=fillvalue))\n",
        "\n",
        "def binaryMatrix(l, value=Padding_token):\n",
        "    m = []\n",
        "    for i, seq in enumerate(l):\n",
        "        m.append([])\n",
        "        for token in seq:\n",
        "            if token == Padding_token:\n",
        "                m[i].append(0)\n",
        "            else:\n",
        "                m[i].append(1)\n",
        "    return m\n",
        "\n",
        "\n",
        "def inputVar(l, voc):\n",
        "    indexes_batch = [indexesFromSentence(voc, sentence) for sentence in l]\n",
        "    lengths = torch.tensor([len(indexes) for indexes in indexes_batch])\n",
        "    padList = zeroPadding(indexes_batch)\n",
        "    padVar = torch.LongTensor(padList)\n",
        "    return padVar, lengths\n",
        "\n",
        "\n",
        "def outputVar(l, voc):\n",
        "    indexes_batch = [indexesFromSentence(voc, sentence) for sentence in l]\n",
        "    max_target_len = max([len(indexes) for indexes in indexes_batch])\n",
        "    padList = zeroPadding(indexes_batch)\n",
        "    mask = binaryMatrix(padList)\n",
        "    mask = torch.ByteTensor(mask)\n",
        "    padVar = torch.LongTensor(padList)\n",
        "    return padVar, mask, max_target_len\n",
        "\n",
        "\n",
        "def batch2TrainData(voc, pair_batch):\n",
        "    pair_batch.sort(key=lambda x: len(x[0].split(\" \")), reverse=True)\n",
        "    input_batch, output_batch = [], []\n",
        "    for pair in pair_batch:\n",
        "        input_batch.append(pair[0])\n",
        "        output_batch.append(pair[1])\n",
        "    inp, lengths = inputVar(input_batch, voc)\n",
        "    output, mask, max_target_len = outputVar(output_batch, voc)\n",
        "    return inp, lengths, output, mask, max_target_len\n",
        "\n",
        "def maskNLLLoss(inp, target, mask):\n",
        "    nTotal = mask.sum()\n",
        "    crossEntropy = -torch.log(torch.gather(inp, 1, target.view(-1, 1)).squeeze(1))\n",
        "    loss = crossEntropy.masked_select(mask).mean()\n",
        "    loss = loss.to(device)\n",
        "    return loss, nTotal.item()"
      ],
      "execution_count": 0,
      "outputs": []
    },
    {
      "cell_type": "code",
      "metadata": {
        "id": "XIA88K5Q32z3",
        "colab_type": "code",
        "outputId": "c6573de6-ab19-49b9-e3b5-0201cf767b5e",
        "colab": {
          "base_uri": "https://localhost:8080/",
          "height": 561
        }
      },
      "source": [
        "MAX_LENGTH = 9\n",
        "small_batch_size = 5\n",
        "batches = batch2TrainData(vocab, [random.choice(pairs) for _ in range(small_batch_size)])\n",
        "input_variable, lengths, target_variable, mask, max_target_len = batches\n",
        "\n",
        "print(\"input_variable:\", input_variable)\n",
        "print(\"lengths:\", lengths)\n",
        "print(\"target_variable:\", target_variable)\n",
        "print(\"mask:\", mask)\n",
        "print(\"max_target_len:\", max_target_len)"
      ],
      "execution_count": 174,
      "outputs": [
        {
          "output_type": "stream",
          "text": [
            "input_variable: tensor([[ 127,   78,   65,   15, 2278],\n",
            "        [ 128,   22,    7,   16,   48],\n",
            "        [ 112,   21,    7, 1417, 1124],\n",
            "        [ 903,  669,    7,   21,   78],\n",
            "        [  31,   15,  114,   48,  101],\n",
            "        [ 102,  145,  156,  572,  719],\n",
            "        [ 916,  766,  537,  769,  110],\n",
            "        [ 155,   31,  469,    7,    7],\n",
            "        [ 102,   14,   14,    1,    1],\n",
            "        [   1,    1,    1,    2,    2]])\n",
            "lengths: tensor([10, 10, 10,  9,  9])\n",
            "target_variable: tensor([[   66,    19,    78,   114,   241],\n",
            "        [   15, 17598,    75,   256,    48],\n",
            "        [  127,    87,   101,    48,    46],\n",
            "        [  128,  1322,   328,    57,     7],\n",
            "        [  102, 17599,    40,  1417,     1],\n",
            "        [    1,     7,    14,    14,     2],\n",
            "        [    2,     1,     7,     1,     2],\n",
            "        [    2,     2,     7,     2,     2],\n",
            "        [    2,     2,     7,     2,     2],\n",
            "        [    2,     2,     1,     2,     2]])\n",
            "mask: tensor([[1, 1, 1, 1, 1],\n",
            "        [1, 1, 1, 1, 1],\n",
            "        [1, 1, 1, 1, 1],\n",
            "        [1, 1, 1, 1, 1],\n",
            "        [1, 1, 1, 1, 1],\n",
            "        [1, 1, 1, 1, 0],\n",
            "        [0, 1, 1, 1, 0],\n",
            "        [0, 0, 1, 0, 0],\n",
            "        [0, 0, 1, 0, 0],\n",
            "        [0, 0, 1, 0, 0]], dtype=torch.uint8)\n",
            "max_target_len: 10\n"
          ],
          "name": "stdout"
        }
      ]
    },
    {
      "cell_type": "code",
      "metadata": {
        "id": "7BV2Msj734cr",
        "colab_type": "code",
        "colab": {}
      },
      "source": [
        "#https://jeddy92.github.io/JEddy92.github.io/ts_seq2seq_intro/\n",
        "class EncoderRNN(nn.Module):\n",
        "    def __init__(self, hidden_size, embedding, n_layers=1, dropout=0):\n",
        "        super(EncoderRNN, self).__init__()\n",
        "        self.n_layers = n_layers\n",
        "        self.hidden_size = hidden_size\n",
        "        self.embedding = embedding\n",
        "\n",
        "        # Initialize GRU; the input_size and hidden_size params are both set to 'hidden_size'\n",
        "        #   because our input size is a word embedding with number of features == hidden_size\n",
        "        self.gru = nn.GRU(hidden_size, hidden_size, n_layers,\n",
        "                          dropout=(0 if n_layers == 1 else dropout), bidirectional=True)\n",
        "\n",
        "    def forward(self, input_seq, input_lengths, hidden=None):\n",
        "        # Convert word indexes to embeddings\n",
        "        embedded = self.embedding(input_seq)\n",
        "        # Pack padded batch of sequences for RNN module\n",
        "        packed = nn.utils.rnn.pack_padded_sequence(embedded, input_lengths)\n",
        "        # Forward pass through GRU\n",
        "        outputs, hidden = self.gru(packed, hidden)\n",
        "        # Unpack padding\n",
        "        outputs, _ = nn.utils.rnn.pad_packed_sequence(outputs)\n",
        "        # Sum bidirectional GRU outputs\n",
        "        outputs = outputs[:, :, :self.hidden_size] + outputs[:, : ,self.hidden_size:]\n",
        "        # Return output and final hidden state\n",
        "        return outputs, hidden"
      ],
      "execution_count": 0,
      "outputs": []
    },
    {
      "cell_type": "code",
      "metadata": {
        "id": "O01mtjLM36xb",
        "colab_type": "code",
        "colab": {}
      },
      "source": [
        "# Luong attention layer\n",
        "class Attn(nn.Module):\n",
        "    def __init__(self, method, hidden_size):\n",
        "        super(Attn, self).__init__()\n",
        "        self.method = method\n",
        "        if self.method not in ['dot', 'general', 'concat']:\n",
        "            raise ValueError(self.method, \"is not an appropriate attention method.\")\n",
        "        self.hidden_size = hidden_size\n",
        "        if self.method == 'general':\n",
        "            self.attn = nn.Linear(self.hidden_size, hidden_size)\n",
        "        elif self.method == 'concat':\n",
        "            self.attn = nn.Linear(self.hidden_size * 2, hidden_size)\n",
        "            self.v = nn.Parameter(torch.FloatTensor(hidden_size))\n",
        "\n",
        "    def dot_score(self, hidden, encoder_output):\n",
        "        return torch.sum(hidden * encoder_output, dim=2)\n",
        "\n",
        "    def general_score(self, hidden, encoder_output):\n",
        "        energy = self.attn(encoder_output)\n",
        "        return torch.sum(hidden * energy, dim=2)\n",
        "\n",
        "    def concat_score(self, hidden, encoder_output):\n",
        "        energy = self.attn(torch.cat((hidden.expand(encoder_output.size(0), -1, -1), encoder_output), 2)).tanh()\n",
        "        return torch.sum(self.v * energy, dim=2)\n",
        "\n",
        "    def forward(self, hidden, encoder_outputs):\n",
        "        # Calculate the attention weights (energies) based on the given method\n",
        "        if self.method == 'general':\n",
        "            attn_energies = self.general_score(hidden, encoder_outputs)\n",
        "        elif self.method == 'concat':\n",
        "            attn_energies = self.concat_score(hidden, encoder_outputs)\n",
        "        elif self.method == 'dot':\n",
        "            attn_energies = self.dot_score(hidden, encoder_outputs)\n",
        "\n",
        "        # Transpose max_length and batch_size dimensions\n",
        "        attn_energies = attn_energies.t()\n",
        "\n",
        "        # Return the softmax normalized probability scores (with added dimension)\n",
        "        return F.softmax(attn_energies, dim=1).unsqueeze(1)"
      ],
      "execution_count": 0,
      "outputs": []
    },
    {
      "cell_type": "code",
      "metadata": {
        "id": "ocHEvWwM38Kt",
        "colab_type": "code",
        "colab": {}
      },
      "source": [
        "class LuongAttnDecoderRNN(nn.Module):\n",
        "    def __init__(self, attn_model, embedding, hidden_size, output_size, n_layers=1, dropout=0.1):\n",
        "        super(LuongAttnDecoderRNN, self).__init__()\n",
        "\n",
        "        # Keep for reference\n",
        "        self.attn_model = attn_model\n",
        "        self.hidden_size = hidden_size\n",
        "        self.output_size = output_size\n",
        "        self.n_layers = n_layers\n",
        "        self.dropout = dropout\n",
        "\n",
        "        # Define layers\n",
        "        self.embedding = embedding\n",
        "        self.embedding_dropout = nn.Dropout(dropout)\n",
        "        self.gru = nn.GRU(hidden_size, hidden_size, n_layers, dropout=(0 if n_layers == 1 else dropout))\n",
        "        self.concat = nn.Linear(hidden_size * 2, hidden_size)\n",
        "        self.out = nn.Linear(hidden_size, output_size)\n",
        "\n",
        "        self.attn = Attn(attn_model, hidden_size)\n",
        "\n",
        "    def forward(self, input_step, last_hidden, encoder_outputs):\n",
        "        # Note: we run this one step (word) at a time\n",
        "        # Get embedding of current input word\n",
        "        embedded = self.embedding(input_step)\n",
        "        embedded = self.embedding_dropout(embedded)\n",
        "        # Forward through unidirectional GRU\n",
        "        rnn_output, hidden = self.gru(embedded, last_hidden)\n",
        "        # Calculate attention weights from the current GRU output\n",
        "        attn_weights = self.attn(rnn_output, encoder_outputs)\n",
        "        # Multiply attention weights to encoder outputs to get new \"weighted sum\" context vector\n",
        "        context = attn_weights.bmm(encoder_outputs.transpose(0, 1))\n",
        "        # Concatenate weighted context vector and GRU output using Luong eq. 5\n",
        "        rnn_output = rnn_output.squeeze(0)\n",
        "        context = context.squeeze(1)\n",
        "        concat_input = torch.cat((rnn_output, context), 1)\n",
        "        concat_output = torch.tanh(self.concat(concat_input))\n",
        "        # Predict next word using Luong eq. 6\n",
        "        output = self.out(concat_output)\n",
        "        output = F.softmax(output, dim=1)\n",
        "        # Return output and final hidden state\n",
        "        return output, hidden"
      ],
      "execution_count": 0,
      "outputs": []
    },
    {
      "cell_type": "code",
      "metadata": {
        "id": "O_tRoCJF39k2",
        "colab_type": "code",
        "colab": {}
      },
      "source": [
        "def train(input_variable, lengths, target_variable, mask, max_target_len, encoder, decoder, embedding,\n",
        "          encoder_optimizer, decoder_optimizer, batch_size, clip, max_length=MAX_LENGTH):\n",
        "\n",
        "    # Zero gradients\n",
        "    encoder_optimizer.zero_grad()\n",
        "    decoder_optimizer.zero_grad()\n",
        "\n",
        "    # Set device options\n",
        "    input_variable = input_variable.to(device)\n",
        "    lengths = lengths.to(device)\n",
        "    target_variable = target_variable.to(device)\n",
        "    mask = mask.to(device)\n",
        "\n",
        "    # Initialize variables\n",
        "    loss = 0\n",
        "    print_losses = []\n",
        "    n_totals = 0\n",
        "\n",
        "    # Forward pass through encoder\n",
        "    encoder_outputs, encoder_hidden = encoder(input_variable, lengths)\n",
        "\n",
        "    # Create initial decoder input (start with SOS tokens for each sentence)\n",
        "    decoder_input = torch.LongTensor([[Start_token for _ in range(batch_size)]])\n",
        "    decoder_input = decoder_input.to(device)\n",
        "\n",
        "    # Set initial decoder hidden state to the encoder's final hidden state\n",
        "    decoder_hidden = encoder_hidden[:decoder.n_layers]\n",
        "\n",
        "    # Determine if we are using teacher forcing this iteration\n",
        "    use_teacher_forcing = True if random.random() < teacher_forcing_ratio else False\n",
        "\n",
        "    # Forward batch of sequences through decoder one time step at a time\n",
        "    if use_teacher_forcing:\n",
        "        for t in range(max_target_len):\n",
        "            decoder_output, decoder_hidden = decoder(\n",
        "                decoder_input, decoder_hidden, encoder_outputs\n",
        "            )\n",
        "            # Teacher forcing: next input is current target\n",
        "            decoder_input = target_variable[t].view(1, -1)\n",
        "            # Calculate and accumulate loss\n",
        "            mask_loss, nTotal = maskNLLLoss(decoder_output, target_variable[t], mask[t])\n",
        "            loss += mask_loss\n",
        "            print_losses.append(mask_loss.item() * nTotal)\n",
        "            n_totals += nTotal\n",
        "    else:\n",
        "        for t in range(max_target_len):\n",
        "            decoder_output, decoder_hidden = decoder(\n",
        "                decoder_input, decoder_hidden, encoder_outputs\n",
        "            )\n",
        "            # No teacher forcing: next input is decoder's own current output\n",
        "            _, topi = decoder_output.topk(1)\n",
        "            decoder_input = torch.LongTensor([[topi[i][0] for i in range(batch_size)]])\n",
        "            decoder_input = decoder_input.to(device)\n",
        "            # Calculate and accumulate loss\n",
        "            mask_loss, nTotal = maskNLLLoss(decoder_output, target_variable[t], mask[t])\n",
        "            loss += mask_loss\n",
        "            print_losses.append(mask_loss.item() * nTotal)\n",
        "            n_totals += nTotal\n",
        "\n",
        "    # Perform backpropatation\n",
        "    loss.backward()\n",
        "\n",
        "    # Clip gradients: gradients are modified in place\n",
        "    _ = nn.utils.clip_grad_norm_(encoder.parameters(), clip)\n",
        "    _ = nn.utils.clip_grad_norm_(decoder.parameters(), clip)\n",
        "\n",
        "    # Adjust model weights\n",
        "    encoder_optimizer.step()\n",
        "    decoder_optimizer.step()\n",
        "\n",
        "    return sum(print_losses) / n_totals"
      ],
      "execution_count": 0,
      "outputs": []
    },
    {
      "cell_type": "code",
      "metadata": {
        "id": "RtNKJlRu3_Bc",
        "colab_type": "code",
        "colab": {}
      },
      "source": [
        "avg_losses = []\n",
        "def trainIters(model_name, voc, pairs, encoder, decoder, encoder_optimizer, decoder_optimizer, embedding, encoder_n_layers, decoder_n_layers, save_dir, n_iteration, batch_size, print_every, save_every, clip, corpus_name, loadFilename):\n",
        "\n",
        "    # Load batches for each iteration\n",
        "    training_batches = [batch2TrainData(voc, [random.choice(pairs) for _ in range(batch_size)])\n",
        "                      for _ in range(n_iteration)]\n",
        "\n",
        "    # Initializations\n",
        "    print('Initializing ...')\n",
        "    start_iteration = 1\n",
        "    print_loss = 0\n",
        "    if loadFilename:\n",
        "        start_iteration = checkpoint['iteration'] + 1\n",
        "\n",
        "    # Training loop\n",
        "    print(\"Training...\")\n",
        "    for iteration in range(start_iteration, n_iteration + 1):\n",
        "        training_batch = training_batches[iteration - 1]\n",
        "        # Extract fields from batch\n",
        "        input_variable, lengths, target_variable, mask, max_target_len = training_batch\n",
        "\n",
        "        # Run a training iteration with batch\n",
        "        loss = train(input_variable, lengths, target_variable, mask, max_target_len, encoder,\n",
        "                     decoder, embedding, encoder_optimizer, decoder_optimizer, batch_size, clip)\n",
        "        print_loss += loss\n",
        "\n",
        "        # Print progress\n",
        "        if iteration % print_every == 0:\n",
        "            print_loss_avg = print_loss / print_every\n",
        "            avg_losses.append(print_loss_avg)\n",
        "            print(\"Iteration: {}; Percent complete: {:.1f}%; Average loss: {:.4f}\".format(iteration, iteration / n_iteration * 100, print_loss_avg))\n",
        "            print_loss = 0\n",
        "\n",
        "        # Save checkpoint\n",
        "        if (iteration % save_every == 0):\n",
        "            directory = os.path.join(save_dir, model_name, corpus_name, '{}-{}_{}'.format(encoder_n_layers, decoder_n_layers, hidden_size))\n",
        "            if not os.path.exists(directory):\n",
        "                os.makedirs(directory)\n",
        "            torch.save({\n",
        "                'iteration': iteration,\n",
        "                'en': encoder.state_dict(),\n",
        "                'de': decoder.state_dict(),\n",
        "                'en_opt': encoder_optimizer.state_dict(),\n",
        "                'de_opt': decoder_optimizer.state_dict(),\n",
        "                'loss': loss,\n",
        "                'voc_dict': voc.__dict__,\n",
        "                'embedding': embedding.state_dict()\n",
        "            }, os.path.join(directory, '{}_{}.tar'.format(iteration, 'checkpoint')))"
      ],
      "execution_count": 0,
      "outputs": []
    },
    {
      "cell_type": "code",
      "metadata": {
        "id": "gf253Kvx4Ae4",
        "colab_type": "code",
        "outputId": "44b373de-cc7a-4084-c63b-df3427e460cf",
        "colab": {
          "base_uri": "https://localhost:8080/",
          "height": 51
        }
      },
      "source": [
        "# Configure models\n",
        "model_name = 'cb_model'\n",
        "attn_model = 'dot'\n",
        "#attn_model = 'general'\n",
        "#attn_model = 'concat'\n",
        "hidden_size = 500\n",
        "encoder_n_layers = 2\n",
        "decoder_n_layers = 2\n",
        "dropout = 0.1\n",
        "batch_size = 64\n",
        "\n",
        "# Set checkpoint to load from; set to None if starting from scratch\n",
        "loadFilename = None\n",
        "checkpoint_iter = 4000\n",
        "#loadFilename = os.path.join(save_dir, model_name, corpus_name,\n",
        "#                            '{}-{}_{}'.format(encoder_n_layers, decoder_n_layers, hidden_size),\n",
        "#                            '{}_checkpoint.tar'.format(checkpoint_iter))\n",
        "\n",
        "\n",
        "# Load model if a loadFilename is provided\n",
        "if loadFilename:\n",
        "    # If loading on same machine the model was trained on\n",
        "    checkpoint = torch.load(loadFilename)\n",
        "    # If loading a model trained on GPU to CPU\n",
        "    #checkpoint = torch.load(loadFilename, map_location=torch.device('cpu'))\n",
        "    encoder_sd = checkpoint['en']\n",
        "    decoder_sd = checkpoint['de']\n",
        "    encoder_optimizer_sd = checkpoint['en_opt']\n",
        "    decoder_optimizer_sd = checkpoint['de_opt']\n",
        "    embedding_sd = checkpoint['embedding']\n",
        "    voc.__dict__ = checkpoint['voc_dict']\n",
        "\n",
        "\n",
        "print('Building encoder and decoder ...')\n",
        "# Initialize word embeddings\n",
        "embedding = nn.Embedding(vocab.num_words, hidden_size)\n",
        "if loadFilename:\n",
        "    embedding.load_state_dict(embedding_sd)\n",
        "# Initialize encoder & decoder models\n",
        "encoder = EncoderRNN(hidden_size, embedding, encoder_n_layers, dropout)\n",
        "decoder = LuongAttnDecoderRNN(attn_model, embedding, hidden_size, vocab.num_words, decoder_n_layers, dropout)\n",
        "if loadFilename:\n",
        "    encoder.load_state_dict(encoder_sd)\n",
        "    decoder.load_state_dict(decoder_sd)\n",
        "# Use appropriate device\n",
        "encoder = encoder.to(device)\n",
        "decoder = decoder.to(device)\n",
        "print('Models built and ready to go!')"
      ],
      "execution_count": 180,
      "outputs": [
        {
          "output_type": "stream",
          "text": [
            "Building encoder and decoder ...\n",
            "Models built and ready to go!\n"
          ],
          "name": "stdout"
        }
      ]
    },
    {
      "cell_type": "code",
      "metadata": {
        "id": "LxQCL4LF4COW",
        "colab_type": "code",
        "outputId": "14ab500c-a5f8-4c62-ed6a-67326c21254a",
        "colab": {
          "base_uri": "https://localhost:8080/",
          "height": 1000
        }
      },
      "source": [
        "# Configure training/optimization\n",
        "clip = 50.0\n",
        "teacher_forcing_ratio = 1.0\n",
        "learning_rate = 0.0001\n",
        "decoder_learning_ratio = 5.0\n",
        "n_iteration = 10000\n",
        "print_every = 50\n",
        "save_every = 500\n",
        "save_dir = os.path.join(\"data\", \"save\")\n",
        "corpus_name = \"Testing\"\n",
        "# Ensure dropout layers are in train mode\n",
        "encoder.train()\n",
        "decoder.train()\n",
        "\n",
        "# Initialize optimizers\n",
        "print('Building optimizers ...')\n",
        "encoder_optimizer = optim.Adam(encoder.parameters(), lr=learning_rate)\n",
        "decoder_optimizer = optim.Adam(decoder.parameters(), lr=learning_rate * decoder_learning_ratio)\n",
        "if loadFilename:\n",
        "    encoder_optimizer.load_state_dict(encoder_optimizer_sd)\n",
        "    decoder_optimizer.load_state_dict(decoder_optimizer_sd)\n",
        "\n",
        "# Run training iterations\n",
        "print(\"Starting Training!\")\n",
        "trainIters(model_name, vocab, pairs, encoder, decoder, encoder_optimizer, decoder_optimizer,\n",
        "           embedding, encoder_n_layers, decoder_n_layers, save_dir, n_iteration, batch_size,\n",
        "           print_every, save_every, clip, corpus_name, loadFilename)"
      ],
      "execution_count": 181,
      "outputs": [
        {
          "output_type": "stream",
          "text": [
            "Building optimizers ...\n",
            "Starting Training!\n",
            "Initializing ...\n",
            "Training...\n",
            "Iteration: 50; Percent complete: 0.5%; Average loss: 6.1814\n",
            "Iteration: 100; Percent complete: 1.0%; Average loss: 5.0564\n",
            "Iteration: 150; Percent complete: 1.5%; Average loss: 4.8466\n",
            "Iteration: 200; Percent complete: 2.0%; Average loss: 4.6639\n",
            "Iteration: 250; Percent complete: 2.5%; Average loss: 4.5054\n",
            "Iteration: 300; Percent complete: 3.0%; Average loss: 4.4073\n",
            "Iteration: 350; Percent complete: 3.5%; Average loss: 4.2641\n",
            "Iteration: 400; Percent complete: 4.0%; Average loss: 4.2160\n",
            "Iteration: 450; Percent complete: 4.5%; Average loss: 4.1781\n",
            "Iteration: 500; Percent complete: 5.0%; Average loss: 4.1302\n",
            "Iteration: 550; Percent complete: 5.5%; Average loss: 4.1004\n",
            "Iteration: 600; Percent complete: 6.0%; Average loss: 4.0214\n",
            "Iteration: 650; Percent complete: 6.5%; Average loss: 3.9944\n",
            "Iteration: 700; Percent complete: 7.0%; Average loss: 4.0026\n",
            "Iteration: 750; Percent complete: 7.5%; Average loss: 3.9119\n",
            "Iteration: 800; Percent complete: 8.0%; Average loss: 3.9371\n",
            "Iteration: 850; Percent complete: 8.5%; Average loss: 3.9428\n",
            "Iteration: 900; Percent complete: 9.0%; Average loss: 3.9066\n",
            "Iteration: 950; Percent complete: 9.5%; Average loss: 3.8893\n",
            "Iteration: 1000; Percent complete: 10.0%; Average loss: 3.8709\n",
            "Iteration: 1050; Percent complete: 10.5%; Average loss: 3.8464\n",
            "Iteration: 1100; Percent complete: 11.0%; Average loss: 3.8218\n",
            "Iteration: 1150; Percent complete: 11.5%; Average loss: 3.8558\n",
            "Iteration: 1200; Percent complete: 12.0%; Average loss: 3.8063\n",
            "Iteration: 1250; Percent complete: 12.5%; Average loss: 3.8127\n",
            "Iteration: 1300; Percent complete: 13.0%; Average loss: 3.7358\n",
            "Iteration: 1350; Percent complete: 13.5%; Average loss: 3.7956\n",
            "Iteration: 1400; Percent complete: 14.0%; Average loss: 3.7237\n",
            "Iteration: 1450; Percent complete: 14.5%; Average loss: 3.7816\n",
            "Iteration: 1500; Percent complete: 15.0%; Average loss: 3.7244\n",
            "Iteration: 1550; Percent complete: 15.5%; Average loss: 3.7589\n",
            "Iteration: 1600; Percent complete: 16.0%; Average loss: 3.6758\n",
            "Iteration: 1650; Percent complete: 16.5%; Average loss: 3.6559\n",
            "Iteration: 1700; Percent complete: 17.0%; Average loss: 3.6724\n",
            "Iteration: 1750; Percent complete: 17.5%; Average loss: 3.6823\n",
            "Iteration: 1800; Percent complete: 18.0%; Average loss: 3.6167\n",
            "Iteration: 1850; Percent complete: 18.5%; Average loss: 3.6790\n",
            "Iteration: 1900; Percent complete: 19.0%; Average loss: 3.6453\n",
            "Iteration: 1950; Percent complete: 19.5%; Average loss: 3.6016\n",
            "Iteration: 2000; Percent complete: 20.0%; Average loss: 3.6041\n",
            "Iteration: 2050; Percent complete: 20.5%; Average loss: 3.6113\n",
            "Iteration: 2100; Percent complete: 21.0%; Average loss: 3.5992\n",
            "Iteration: 2150; Percent complete: 21.5%; Average loss: 3.5801\n",
            "Iteration: 2200; Percent complete: 22.0%; Average loss: 3.5882\n",
            "Iteration: 2250; Percent complete: 22.5%; Average loss: 3.5960\n",
            "Iteration: 2300; Percent complete: 23.0%; Average loss: 3.5880\n",
            "Iteration: 2350; Percent complete: 23.5%; Average loss: 3.5830\n",
            "Iteration: 2400; Percent complete: 24.0%; Average loss: 3.5485\n",
            "Iteration: 2450; Percent complete: 24.5%; Average loss: 3.5236\n",
            "Iteration: 2500; Percent complete: 25.0%; Average loss: 3.5801\n",
            "Iteration: 2550; Percent complete: 25.5%; Average loss: 3.5018\n",
            "Iteration: 2600; Percent complete: 26.0%; Average loss: 3.5133\n",
            "Iteration: 2650; Percent complete: 26.5%; Average loss: 3.4396\n",
            "Iteration: 2700; Percent complete: 27.0%; Average loss: 3.4836\n",
            "Iteration: 2750; Percent complete: 27.5%; Average loss: 3.5148\n",
            "Iteration: 2800; Percent complete: 28.0%; Average loss: 3.4771\n",
            "Iteration: 2850; Percent complete: 28.5%; Average loss: 3.4515\n",
            "Iteration: 2900; Percent complete: 29.0%; Average loss: 3.5111\n",
            "Iteration: 2950; Percent complete: 29.5%; Average loss: 3.4226\n",
            "Iteration: 3000; Percent complete: 30.0%; Average loss: 3.4811\n",
            "Iteration: 3050; Percent complete: 30.5%; Average loss: 3.4920\n",
            "Iteration: 3100; Percent complete: 31.0%; Average loss: 3.4272\n",
            "Iteration: 3150; Percent complete: 31.5%; Average loss: 3.4075\n",
            "Iteration: 3200; Percent complete: 32.0%; Average loss: 3.4441\n",
            "Iteration: 3250; Percent complete: 32.5%; Average loss: 3.4586\n",
            "Iteration: 3300; Percent complete: 33.0%; Average loss: 3.4414\n",
            "Iteration: 3350; Percent complete: 33.5%; Average loss: 3.4052\n",
            "Iteration: 3400; Percent complete: 34.0%; Average loss: 3.4021\n",
            "Iteration: 3450; Percent complete: 34.5%; Average loss: 3.3893\n",
            "Iteration: 3500; Percent complete: 35.0%; Average loss: 3.3774\n",
            "Iteration: 3550; Percent complete: 35.5%; Average loss: 3.3887\n",
            "Iteration: 3600; Percent complete: 36.0%; Average loss: 3.3541\n",
            "Iteration: 3650; Percent complete: 36.5%; Average loss: 3.3690\n",
            "Iteration: 3700; Percent complete: 37.0%; Average loss: 3.3411\n",
            "Iteration: 3750; Percent complete: 37.5%; Average loss: 3.3096\n",
            "Iteration: 3800; Percent complete: 38.0%; Average loss: 3.3373\n",
            "Iteration: 3850; Percent complete: 38.5%; Average loss: 3.3217\n",
            "Iteration: 3900; Percent complete: 39.0%; Average loss: 3.3452\n",
            "Iteration: 3950; Percent complete: 39.5%; Average loss: 3.3310\n",
            "Iteration: 4000; Percent complete: 40.0%; Average loss: 3.3298\n",
            "Iteration: 4050; Percent complete: 40.5%; Average loss: 3.2675\n",
            "Iteration: 4100; Percent complete: 41.0%; Average loss: 3.2954\n",
            "Iteration: 4150; Percent complete: 41.5%; Average loss: 3.3111\n",
            "Iteration: 4200; Percent complete: 42.0%; Average loss: 3.2808\n",
            "Iteration: 4250; Percent complete: 42.5%; Average loss: 3.2922\n",
            "Iteration: 4300; Percent complete: 43.0%; Average loss: 3.2587\n",
            "Iteration: 4350; Percent complete: 43.5%; Average loss: 3.2902\n",
            "Iteration: 4400; Percent complete: 44.0%; Average loss: 3.2325\n",
            "Iteration: 4450; Percent complete: 44.5%; Average loss: 3.2501\n",
            "Iteration: 4500; Percent complete: 45.0%; Average loss: 3.2848\n",
            "Iteration: 4550; Percent complete: 45.5%; Average loss: 3.2405\n",
            "Iteration: 4600; Percent complete: 46.0%; Average loss: 3.2399\n",
            "Iteration: 4650; Percent complete: 46.5%; Average loss: 3.2079\n",
            "Iteration: 4700; Percent complete: 47.0%; Average loss: 3.1862\n",
            "Iteration: 4750; Percent complete: 47.5%; Average loss: 3.1936\n",
            "Iteration: 4800; Percent complete: 48.0%; Average loss: 3.2169\n",
            "Iteration: 4850; Percent complete: 48.5%; Average loss: 3.2049\n",
            "Iteration: 4900; Percent complete: 49.0%; Average loss: 3.2080\n",
            "Iteration: 4950; Percent complete: 49.5%; Average loss: 3.1984\n",
            "Iteration: 5000; Percent complete: 50.0%; Average loss: 3.2154\n",
            "Iteration: 5050; Percent complete: 50.5%; Average loss: 3.1608\n",
            "Iteration: 5100; Percent complete: 51.0%; Average loss: 3.1793\n",
            "Iteration: 5150; Percent complete: 51.5%; Average loss: 3.1044\n",
            "Iteration: 5200; Percent complete: 52.0%; Average loss: 3.1523\n",
            "Iteration: 5250; Percent complete: 52.5%; Average loss: 3.1867\n",
            "Iteration: 5300; Percent complete: 53.0%; Average loss: 3.0970\n",
            "Iteration: 5350; Percent complete: 53.5%; Average loss: 3.0854\n",
            "Iteration: 5400; Percent complete: 54.0%; Average loss: 3.1401\n",
            "Iteration: 5450; Percent complete: 54.5%; Average loss: 3.1180\n",
            "Iteration: 5500; Percent complete: 55.0%; Average loss: 3.1005\n",
            "Iteration: 5550; Percent complete: 55.5%; Average loss: 3.0820\n",
            "Iteration: 5600; Percent complete: 56.0%; Average loss: 3.1152\n",
            "Iteration: 5650; Percent complete: 56.5%; Average loss: 3.0852\n",
            "Iteration: 5700; Percent complete: 57.0%; Average loss: 3.0673\n",
            "Iteration: 5750; Percent complete: 57.5%; Average loss: 3.0665\n",
            "Iteration: 5800; Percent complete: 58.0%; Average loss: 3.0795\n",
            "Iteration: 5850; Percent complete: 58.5%; Average loss: 3.0365\n",
            "Iteration: 5900; Percent complete: 59.0%; Average loss: 3.0432\n",
            "Iteration: 5950; Percent complete: 59.5%; Average loss: 3.0438\n",
            "Iteration: 6000; Percent complete: 60.0%; Average loss: 3.0190\n",
            "Iteration: 6050; Percent complete: 60.5%; Average loss: 3.0120\n",
            "Iteration: 6100; Percent complete: 61.0%; Average loss: 3.0175\n",
            "Iteration: 6150; Percent complete: 61.5%; Average loss: 3.0211\n",
            "Iteration: 6200; Percent complete: 62.0%; Average loss: 2.9885\n",
            "Iteration: 6250; Percent complete: 62.5%; Average loss: 2.9928\n",
            "Iteration: 6300; Percent complete: 63.0%; Average loss: 2.9796\n",
            "Iteration: 6350; Percent complete: 63.5%; Average loss: 2.9873\n",
            "Iteration: 6400; Percent complete: 64.0%; Average loss: 2.9732\n",
            "Iteration: 6450; Percent complete: 64.5%; Average loss: 2.9818\n",
            "Iteration: 6500; Percent complete: 65.0%; Average loss: 2.9803\n",
            "Iteration: 6550; Percent complete: 65.5%; Average loss: 2.9827\n",
            "Iteration: 6600; Percent complete: 66.0%; Average loss: 2.9767\n",
            "Iteration: 6650; Percent complete: 66.5%; Average loss: 2.9609\n",
            "Iteration: 6700; Percent complete: 67.0%; Average loss: 2.9546\n",
            "Iteration: 6750; Percent complete: 67.5%; Average loss: 2.9329\n",
            "Iteration: 6800; Percent complete: 68.0%; Average loss: 2.9525\n",
            "Iteration: 6850; Percent complete: 68.5%; Average loss: 2.8990\n",
            "Iteration: 6900; Percent complete: 69.0%; Average loss: 2.9273\n",
            "Iteration: 6950; Percent complete: 69.5%; Average loss: 2.9318\n",
            "Iteration: 7000; Percent complete: 70.0%; Average loss: 2.9206\n",
            "Iteration: 7050; Percent complete: 70.5%; Average loss: 2.9213\n",
            "Iteration: 7100; Percent complete: 71.0%; Average loss: 2.9094\n",
            "Iteration: 7150; Percent complete: 71.5%; Average loss: 2.8920\n",
            "Iteration: 7200; Percent complete: 72.0%; Average loss: 2.8787\n",
            "Iteration: 7250; Percent complete: 72.5%; Average loss: 2.8509\n",
            "Iteration: 7300; Percent complete: 73.0%; Average loss: 2.8917\n",
            "Iteration: 7350; Percent complete: 73.5%; Average loss: 2.8965\n",
            "Iteration: 7400; Percent complete: 74.0%; Average loss: 2.8430\n",
            "Iteration: 7450; Percent complete: 74.5%; Average loss: 2.8530\n",
            "Iteration: 7500; Percent complete: 75.0%; Average loss: 2.8500\n",
            "Iteration: 7550; Percent complete: 75.5%; Average loss: 2.8240\n",
            "Iteration: 7600; Percent complete: 76.0%; Average loss: 2.8285\n",
            "Iteration: 7650; Percent complete: 76.5%; Average loss: 2.8311\n",
            "Iteration: 7700; Percent complete: 77.0%; Average loss: 2.7951\n",
            "Iteration: 7750; Percent complete: 77.5%; Average loss: 2.8128\n",
            "Iteration: 7800; Percent complete: 78.0%; Average loss: 2.8233\n",
            "Iteration: 7850; Percent complete: 78.5%; Average loss: 2.8173\n",
            "Iteration: 7900; Percent complete: 79.0%; Average loss: 2.8308\n",
            "Iteration: 7950; Percent complete: 79.5%; Average loss: 2.8090\n",
            "Iteration: 8000; Percent complete: 80.0%; Average loss: 2.7836\n",
            "Iteration: 8050; Percent complete: 80.5%; Average loss: 2.7577\n",
            "Iteration: 8100; Percent complete: 81.0%; Average loss: 2.7966\n",
            "Iteration: 8150; Percent complete: 81.5%; Average loss: 2.8264\n",
            "Iteration: 8200; Percent complete: 82.0%; Average loss: 2.7850\n",
            "Iteration: 8250; Percent complete: 82.5%; Average loss: 2.7648\n",
            "Iteration: 8300; Percent complete: 83.0%; Average loss: 2.7615\n",
            "Iteration: 8350; Percent complete: 83.5%; Average loss: 2.7807\n",
            "Iteration: 8400; Percent complete: 84.0%; Average loss: 2.7514\n",
            "Iteration: 8450; Percent complete: 84.5%; Average loss: 2.7273\n",
            "Iteration: 8500; Percent complete: 85.0%; Average loss: 2.7358\n",
            "Iteration: 8550; Percent complete: 85.5%; Average loss: 2.7378\n",
            "Iteration: 8600; Percent complete: 86.0%; Average loss: 2.7330\n",
            "Iteration: 8650; Percent complete: 86.5%; Average loss: 2.7222\n",
            "Iteration: 8700; Percent complete: 87.0%; Average loss: 2.6967\n",
            "Iteration: 8750; Percent complete: 87.5%; Average loss: 2.7260\n",
            "Iteration: 8800; Percent complete: 88.0%; Average loss: 2.6957\n",
            "Iteration: 8850; Percent complete: 88.5%; Average loss: 2.6912\n",
            "Iteration: 8900; Percent complete: 89.0%; Average loss: 2.6892\n",
            "Iteration: 8950; Percent complete: 89.5%; Average loss: 2.6910\n",
            "Iteration: 9000; Percent complete: 90.0%; Average loss: 2.6749\n",
            "Iteration: 9050; Percent complete: 90.5%; Average loss: 2.6670\n",
            "Iteration: 9100; Percent complete: 91.0%; Average loss: 2.6626\n",
            "Iteration: 9150; Percent complete: 91.5%; Average loss: 2.6875\n",
            "Iteration: 9200; Percent complete: 92.0%; Average loss: 2.6581\n",
            "Iteration: 9250; Percent complete: 92.5%; Average loss: 2.6438\n",
            "Iteration: 9300; Percent complete: 93.0%; Average loss: 2.6331\n",
            "Iteration: 9350; Percent complete: 93.5%; Average loss: 2.6334\n",
            "Iteration: 9400; Percent complete: 94.0%; Average loss: 2.6063\n",
            "Iteration: 9450; Percent complete: 94.5%; Average loss: 2.6199\n",
            "Iteration: 9500; Percent complete: 95.0%; Average loss: 2.6166\n",
            "Iteration: 9550; Percent complete: 95.5%; Average loss: 2.6014\n",
            "Iteration: 9600; Percent complete: 96.0%; Average loss: 2.6030\n",
            "Iteration: 9650; Percent complete: 96.5%; Average loss: 2.6086\n",
            "Iteration: 9700; Percent complete: 97.0%; Average loss: 2.5997\n",
            "Iteration: 9750; Percent complete: 97.5%; Average loss: 2.6080\n",
            "Iteration: 9800; Percent complete: 98.0%; Average loss: 2.5592\n",
            "Iteration: 9850; Percent complete: 98.5%; Average loss: 2.5730\n",
            "Iteration: 9900; Percent complete: 99.0%; Average loss: 2.5730\n",
            "Iteration: 9950; Percent complete: 99.5%; Average loss: 2.5543\n",
            "Iteration: 10000; Percent complete: 100.0%; Average loss: 2.5745\n"
          ],
          "name": "stdout"
        }
      ]
    },
    {
      "cell_type": "code",
      "metadata": {
        "id": "lmPtU8cx4EVC",
        "colab_type": "code",
        "outputId": "2a6e4fc7-94c6-4ee9-b04c-2e01897d3165",
        "colab": {
          "base_uri": "https://localhost:8080/",
          "height": 283
        }
      },
      "source": [
        "import matplotlib.pyplot as plt\n",
        "%matplotlib inline\n",
        "plt.plot(avg_losses)\n",
        "plt.xlabel('mini-batch index / {}'.format(print_every))\n",
        "plt.ylabel('avg. mini-batch loss')\n",
        "plt.show()"
      ],
      "execution_count": 182,
      "outputs": [
        {
          "output_type": "display_data",
          "data": {
            "image/png": "[encoded data removed]",
            "text/plain": [
              "<Figure size 432x288 with 1 Axes>"
            ]
          },
          "metadata": {
            "tags": []
          }
        }
      ]
    },
    {
      "cell_type": "code",
      "metadata": {
        "id": "uEge9BOc-nVf",
        "colab_type": "code",
        "colab": {}
      },
      "source": [
        "class GreedySearchDecoder(nn.Module):\n",
        "    def __init__(self, encoder, decoder):\n",
        "        super(GreedySearchDecoder, self).__init__()\n",
        "        self.encoder = encoder\n",
        "        self.decoder = decoder\n",
        "\n",
        "    def forward(self, input_seq, input_length, max_length):\n",
        "        # Forward input through encoder model\n",
        "        encoder_outputs, encoder_hidden = self.encoder(input_seq, input_length)\n",
        "        # Prepare encoder's final hidden layer to be first hidden input to the decoder\n",
        "        decoder_hidden = encoder_hidden[:decoder.n_layers]\n",
        "        # Initialize decoder input with SOS_token\n",
        "        decoder_input = torch.ones(1, 1, device=device, dtype=torch.long) * Start_token\n",
        "        # Initialize tensors to append decoded words to\n",
        "        all_tokens = torch.zeros([0], device=device, dtype=torch.long)\n",
        "        all_scores = torch.zeros([0], device=device)\n",
        "        # Iteratively decode one word token at a time\n",
        "        for _ in range(max_length):\n",
        "            # Forward pass through decoder\n",
        "            decoder_output, decoder_hidden = self.decoder(decoder_input, decoder_hidden, encoder_outputs)\n",
        "            # Obtain most likely word token and its softmax score\n",
        "            decoder_scores, decoder_input = torch.max(decoder_output, dim=1)\n",
        "            # Record token and score\n",
        "            all_tokens = torch.cat((all_tokens, decoder_input), dim=0)\n",
        "            all_scores = torch.cat((all_scores, decoder_scores), dim=0)\n",
        "            # Prepare current token to be next decoder input (add a dimension)\n",
        "            decoder_input = torch.unsqueeze(decoder_input, 0)\n",
        "        # Return collections of word tokens and scores\n",
        "        return all_tokens, all_scores"
      ],
      "execution_count": 0,
      "outputs": []
    },
    {
      "cell_type": "code",
      "metadata": {
        "id": "TNDFlhHy-ydY",
        "colab_type": "code",
        "colab": {}
      },
      "source": [
        "def evaluate(encoder, decoder, searcher, voc, sentence, max_length=MAX_LENGTH):\n",
        "    ### Format input sentence as a batch\n",
        "    # words -> indexes\n",
        "    indexes_batch = [indexesFromSentence(voc, sentence)]\n",
        "    # Create lengths tensor\n",
        "    lengths = torch.tensor([len(indexes) for indexes in indexes_batch])\n",
        "    # Transpose dimensions of batch to match models' expectations\n",
        "    input_batch = torch.LongTensor(indexes_batch).transpose(0, 1)\n",
        "    # Use appropriate device\n",
        "    input_batch = input_batch.to(device)\n",
        "    lengths = lengths.to(device)\n",
        "    # Decode sentence with searcher\n",
        "    tokens, scores = searcher(input_batch, lengths, max_length)\n",
        "    # indexes -> words\n",
        "    decoded_words = [voc.indexword[token.item()] for token in tokens]\n",
        "    return decoded_words"
      ],
      "execution_count": 0,
      "outputs": []
    },
    {
      "cell_type": "code",
      "metadata": {
        "id": "fcR1GPqn-0mQ",
        "colab_type": "code",
        "colab": {}
      },
      "source": [
        "def evaluateInput(encoder, decoder, searcher, voc):\n",
        "    input_sentence = ''\n",
        "    while(1):\n",
        "        try:\n",
        "            # Get input sentence\n",
        "            input_sentence = input('> ')\n",
        "            # Check if it is quit case\n",
        "            if input_sentence == 'q' or input_sentence == 'quit': break\n",
        "            # Normalize sentence\n",
        "            input_sentence = normalizeString(input_sentence)\n",
        "            # Evaluate sentence\n",
        "            output_words = evaluate(encoder, decoder, searcher, voc, input_sentence)\n",
        "            # Format and print response sentence\n",
        "            output_words[:] = [x for x in output_words if not (x == 'EOS' or x == 'PAD')]\n",
        "            print('Bot:', ' '.join(output_words))\n",
        "\n",
        "        except KeyError:\n",
        "            print(\"Error: Encountered unknown word.\")"
      ],
      "execution_count": 0,
      "outputs": []
    },
    {
      "cell_type": "code",
      "metadata": {
        "id": "zF-vkZwH-2OZ",
        "colab_type": "code",
        "colab": {}
      },
      "source": [
        "encoder.eval()\n",
        "decoder.eval()\n",
        "searcher = GreedySearchDecoder(encoder, decoder)"
      ],
      "execution_count": 0,
      "outputs": []
    },
    {
      "cell_type": "code",
      "metadata": {
        "id": "eS5HMI-a-38_",
        "colab_type": "code",
        "outputId": "da675a91-499b-480a-b322-f21cc246ff13",
        "colab": {
          "base_uri": "https://localhost:8080/",
          "height": 204
        }
      },
      "source": [
        "evaluateInput(encoder, decoder, searcher, vocab)"
      ],
      "execution_count": 187,
      "outputs": [
        {
          "output_type": "stream",
          "text": [
            "> hi\n",
            "Bot: hi . it . it .\n",
            "> how are you\n",
            "Bot: i m fine . my feet !\n",
            "> i love you\n",
            "Bot: i love you . it . it\n",
            "> oh no\n",
            "Bot: no . it . it .\n",
            "> hahaha\n",
            "Bot: you re not going to be a minute .\n",
            "> quit\n"
          ],
          "name": "stdout"
        }
      ]
    },
    {
      "cell_type": "code",
      "metadata": {
        "id": "0amoSd1w-5dS",
        "colab_type": "code",
        "colab": {
          "base_uri": "https://localhost:8080/",
          "height": 105
        },
        "outputId": "a0aa6d9a-86c6-4f35-829c-5b0ae6c2be56"
      },
      "source": [
        "import pandas as pd\n",
        "print(\"Loading the first file\")\n",
        "df = pd.read_csv('text_emotion.csv', encoding='latin_1')\n",
        "df.dropna()\n",
        "df.head()\n",
        "df_list = [df.columns.values.astype('U').tolist()] + df.values.tolist()\n",
        "df_sentence = [df_list[x+1][1] for x in range(len(df_list)-1)]\n",
        "emotion = [df_list[x+1][0] for x in range(len(df_list)-1)]\n",
        "mylist = list(set(emotion))\n",
        "print(\"Emotions in the first file: \")\n",
        "print(mylist)\n",
        "import numpy as np\n",
        "print(\"Processing the first file\")\n",
        "valence_3 = np.zeros(len(emotion))\n",
        "arousal_3 = np.zeros(len(emotion))"
      ],
      "execution_count": 188,
      "outputs": [
        {
          "output_type": "stream",
          "text": [
            "Loading the first file\n",
            "Emotions in the first file: \n",
            "['relief', 'surprise', 'anger', 'fun', 'enthusiasm', 'boredom', 'neutral', 'love', 'worry', 'sadness', 'happiness', 'empty', 'hate']\n",
            "Processing the first file\n"
          ],
          "name": "stdout"
        }
      ]
    },
    {
      "cell_type": "code",
      "metadata": {
        "id": "6OJN-3VRuAbY",
        "colab_type": "code",
        "colab": {}
      },
      "source": [
        "one_one = []\n",
        "zero_zero = []\n",
        "zero_one = []\n",
        "one_zero = []\n",
        "i = 0\n",
        "j = 0\n",
        "while i < int(len(emotion)):\n",
        "    if(emotion[i] == 'fun' or emotion[i] == 'happiness' or emotion[i] == 'enthusiasm' or emotion[i] == 'love'):\n",
        "        valence_3[j] = 1\n",
        "        arousal_3[j] = 1\n",
        "        one_one.append(df_sentence[i])\n",
        "        j+=1\n",
        "    i += 1\n",
        "i = 0\n",
        "while i < int(len(emotion)):\n",
        "    if(emotion[i] == 'sad' or emotion[i] == 'boredom' or emotion[i] == 'worry'):\n",
        "        valence_3[j] = 0\n",
        "        arousal_3[j] = 0\n",
        "        zero_zero.append(df_sentence[i])\n",
        "        j+=1\n",
        "    i += 1\n",
        "i = 0\n",
        "while i < int(len(emotion)):\n",
        "    if(emotion[i] == 'anger' or emotion[i] == 'hate'):\n",
        "        valence_3[j] = 0\n",
        "        arousal_3[j] = 1\n",
        "        zero_one.append(df_sentence[i])\n",
        "        j+=1\n",
        "    i += 1\n",
        "i = 0\n",
        "while i < int(len(emotion)):\n",
        "    if(emotion[i] == 'neural' or emotion[i] == 'relief'):\n",
        "        valence_3[j] = 1\n",
        "        arousal_3[j] = 0\n",
        "        one_zero.append(df_sentence[i])\n",
        "        j+=1\n",
        "    i+=1\n",
        "valence3 = np.zeros(j)\n",
        "arousal3 = np.zeros(j)\n",
        "for i in range(j):\n",
        "    valence3[i] = valence_3[i]\n",
        "    arousal3[i] = arousal_3[i]"
      ],
      "execution_count": 0,
      "outputs": []
    },
    {
      "cell_type": "code",
      "metadata": {
        "id": "lEbrCsYJuCXV",
        "colab_type": "code",
        "colab": {
          "base_uri": "https://localhost:8080/",
          "height": 136
        },
        "outputId": "3548484c-490d-48b6-8b8d-963c6929523b"
      },
      "source": [
        "df_sentence = one_one + zero_zero + zero_one + one_zero\n",
        "print(\"Done processing the first file\")\n",
        "print(\"The total dataset of the first file is \" + str(len(df_sentence)))\n",
        "print(\"\\nStart loading the second file\")\n",
        "\n",
        "emo = pd.read_csv('emo.csv', encoding='latin_1')\n",
        "emo.dropna()\n",
        "emo_list = [emo.columns.values.astype('U').tolist()] + emo.values.tolist()\n",
        "valence_1 = np.zeros(len(emo_list)-1)\n",
        "arousal_1 = np.zeros(len(emo_list)-1)\n",
        "print(\"Processing the second file\")\n",
        "i = 1\n",
        "while i < int(len(emo_list)):\n",
        "    if emo_list[i][1] >= 3:\n",
        "        valence_1[i-1] = 1 #for positive valence\n",
        "    else:\n",
        "        valence_1[i-1] = 0 #for negative valence\n",
        "    if emo_list[i][2] >= 3:\n",
        "        arousal_1[i-1] = 1 #for positive arousal\n",
        "    else:\n",
        "        arousal_1[i-1] = 0 #for negative arousal\n",
        "    i+=1\n",
        "print(\"Done processing the second file\")\n",
        "#print(valence_1.shape)\n",
        "#print(valence_2.shape)\n",
        "emo_sentence = [emo_list[x+1][0] for x in range(len(emo_list)-1)]\n",
        "#fb_sentence = [fb_list[x+1][0] for x in range(len(fb_list)-1)]\n",
        "#sentence = emo_sentence + fb_sentence + df_sentence\n",
        "sentence = emo_sentence + df_sentence\n",
        "valence_np = np.hstack((valence_1, valence3)) #, valence_2\n",
        "arousal_np = np.hstack((arousal_1, arousal3)) #, arousal_2\n",
        "valence = valence_np.tolist()\n",
        "arousal = arousal_np.tolist()\n",
        "from sklearn.model_selection import train_test_split\n",
        "#S_train = [sentence[i].value().astype(U) for i in range(len(sentence))]\n",
        "S_train = sentence\n",
        "v_train = valence\n",
        "a_train = arousal\n",
        "print(\"The total length of the dataset is \" + str(len(S_train)))"
      ],
      "execution_count": 190,
      "outputs": [
        {
          "output_type": "stream",
          "text": [
            "Done processing the first file\n",
            "The total dataset of the first file is 23183\n",
            "\n",
            "Start loading the second file\n",
            "Processing the second file\n",
            "Done processing the second file\n",
            "The total length of the dataset is 33274\n"
          ],
          "name": "stdout"
        }
      ]
    },
    {
      "cell_type": "code",
      "metadata": {
        "id": "QfArUe1duJnT",
        "colab_type": "code",
        "colab": {}
      },
      "source": [
        "from nltk.stem.snowball import SnowballStemmer\n",
        "stemmer = SnowballStemmer(\"english\")\n",
        "middle_words = ['and','a','the','am','it','me','with','in','on','by','near','this','that','an','there','here','those','ourselves', 'hers', 'between', 'yourself', 'but', 'again', 'there', 'about', 'once',\n",
        "                'during', 'out', 'very', 'having', 'with', 'they', 'own', 'an', 'be', 'some', 'for', 'do', 'its', 'yours', 'such', 'into',\n",
        "                'of', 'most', 'itself', 'other', 'off', 'is', 's', 'am', 'or', 'who', 'as', 'from', 'him', 'each', 'the', 'themselves',\n",
        "                'until', 'below', 'are', 'we', 'these', 'your', 'his', 'through', 'don', 'nor', 'me', 'were', 'her', 'more',\n",
        "                'himself', 'this', 'down', 'should', 'our', 'their', 'while', 'above', 'both', 'up', 'to', 'ours', 'had', 'she',\n",
        "                'all', 'when', 'at', 'any', 'before', 'them', 'same', 'and', 'been', 'have', 'in', 'will', 'on', 'does', 'yourselves',\n",
        "                'then', 'that', 'because', 'what', 'over', 'why', 'so', 'can', 'did', 'now', 'under', 'he', 'you', 'herself', 'has', 'just', 'where', 'myself', 'which', 'those', 'i',\n",
        "                'after', 'few', 'whom', 't', 'being', 'if', 'theirs', 'my', 'against', 'a', 'by', 'doing', 'it', 'how', 'further', 'was', 'here', 'than']\n",
        "middle_words = set(dict.fromkeys([stemmer.stem(word) for word in middle_words]))\n",
        "from nltk.tokenize import RegexpTokenizer\n",
        "tokenizer = RegexpTokenizer('\\w+|\\$[\\d\\.]+|\\S+')\n",
        "\n",
        "def tokenize(sentence):\n",
        "    tokens = tokenizer.tokenize(sentence)\n",
        "    for w in middle_words:\n",
        "        while w in tokens:\n",
        "            tokens.remove(w)\n",
        "    toReturn = [stemmer.stem(item.lower()) for item in tokens]\n",
        "    return toReturn"
      ],
      "execution_count": 0,
      "outputs": []
    },
    {
      "cell_type": "code",
      "metadata": {
        "id": "BuS7jU4muMTl",
        "colab_type": "code",
        "colab": {}
      },
      "source": [
        "def tokenize(sentence):\n",
        "    tokenizer = RegexpTokenizer('\\w+|\\$[\\d\\.]+|\\S+')\n",
        "    stemmer = SnowballStemmer(\"english\")\n",
        "    middle_words = ['and','a','the','am','it','me','with','in','on','by','near','this','that','an','there','here','those',\n",
        "                'ourselves', 'hers', 'between', 'yourself', 'but', 'again', 'there', 'about', 'once','during', 'out', 'very',\n",
        "                'having', 'with', 'they', 'own', 'an', 'be', 'some', 'for', 'do', 'its', 'yours', 'such', 'into', 'of', 'most',\n",
        "                'itself', 'other', 'off', 'is', 's', 'am', 'or', 'who', 'as', 'from', 'him', 'each', 'the', 'themselves',\n",
        "                'until', 'below', 'are', 'we', 'these', 'your', 'his', 'through', 'don', 'nor', 'me', 'were', 'her', 'more',\n",
        "                'himself', 'this', 'down', 'should', 'our', 'their', 'while', 'above', 'both', 'up', 'to', 'ours', 'had', 'she',\n",
        "                'all', 'when', 'at', 'any', 'before', 'them', 'same', 'and', 'been', 'have', 'in', 'will', 'on', 'does',\n",
        "                'yourselves', 'then', 'that', 'because', 'what', 'over', 'so', 'can', 'did', 'now', 'under', 'he', 'you',\n",
        "                'herself', 'has', 'just', 'where', 'myself', 'which', 'those', 'i', 'after', 'few', 'whom', 't', 'being', 'if',\n",
        "                'theirs', 'my', 'against', 'a', 'by', 'doing', 'it', 'how', 'further', 'was', 'here', 'than', 's', 't', 'can', 'will',\n",
        "                'just', 'don', \"don't\", 'should', \"should've\", 'now', 'd', 'll', 'm', 'o', 're', 've', 'y', 'ain', 'aren']\n",
        "    middle_words = set(dict.fromkeys([stemmer.stem(word) for word in middle_words]))\n",
        "    tokens = tokenizer.tokenize(sentence)\n",
        "    for w in middle_words:\n",
        "        while w in tokens:\n",
        "            tokens.remove(w)\n",
        "    toReturn = [stemmer.stem(item.lower()) for item in tokens]\n",
        "    return toReturn"
      ],
      "execution_count": 0,
      "outputs": []
    },
    {
      "cell_type": "code",
      "metadata": {
        "id": "hPwxwQvzuOXB",
        "colab_type": "code",
        "colab": {
          "base_uri": "https://localhost:8080/",
          "height": 85
        },
        "outputId": "b68af6cd-432a-4663-f6f3-cefbadf52c98"
      },
      "source": [
        "print(\"\\n Preprocessing the data...\")\n",
        "from sklearn.feature_extraction.text import TfidfVectorizer\n",
        "count_vect = TfidfVectorizer(ngram_range=(1,3), tokenizer=tokenize)\n",
        "trainX = count_vect.fit_transform(S_train)\n",
        "from sklearn import preprocessing\n",
        "le = preprocessing.LabelEncoder()\n",
        "le.fit(v_train)\n",
        "target_labels = le.classes_\n",
        "trainy = le.transform(v_train)\n",
        "print(\"\\n Define tuning functions...\")"
      ],
      "execution_count": 193,
      "outputs": [
        {
          "output_type": "stream",
          "text": [
            "\n",
            " Preprocessing the data...\n",
            "\n",
            " Define tuning functions...\n"
          ],
          "name": "stdout"
        }
      ]
    },
    {
      "cell_type": "code",
      "metadata": {
        "id": "Eqdw5UuwuQGs",
        "colab_type": "code",
        "colab": {
          "base_uri": "https://localhost:8080/",
          "height": 51
        },
        "outputId": "2f5b9aed-9448-43f7-f103-203ed48451e3"
      },
      "source": [
        "def train_classifier_valence(X, y):\n",
        "    from sklearn.linear_model import LogisticRegression\n",
        "    from sklearn.model_selection import GridSearchCV\n",
        "    '''param_grid = {'C': [1, 5, 10, 25]}\n",
        "        print(\"grid search start\")\n",
        "        grid = GridSearchCV(LogisticRegression(random_state=0, solver='lbfgs', class_weight='balanced', max_iter=10000),\n",
        "        param_grid, cv=5)\n",
        "        print(\"done grid search\")\n",
        "        grid.fit(X, y)\n",
        "        print(\"Best cross-validation score: {:.2f}\".format(grid.best_score_))\n",
        "        print(\"Best parameters: \", grid.best_params_)\n",
        "        print(\"Best estimator: \", grid.best_estimator_)'''\n",
        "    cls = LogisticRegression(C=5, class_weight='balanced', dual=False,\n",
        "                             fit_intercept=True, intercept_scaling=1, max_iter=10000,\n",
        "                             multi_class='warn', n_jobs=None, penalty='l2', random_state=0,\n",
        "                             solver='lbfgs', tol=0.0001, verbose=0, warm_start=False)#grid.best_estimator_\n",
        "    cls.fit(X, y)\n",
        "    print(\"Parameters: \", cls.get_params)\n",
        "    print(\"Score: \", str(cls.score(X,y)))\n",
        "    return cls\n",
        "\n",
        "def train_classifier_arousal(X, y):\n",
        "    from sklearn.linear_model import LogisticRegression\n",
        "    from sklearn.model_selection import GridSearchCV\n",
        "    '''param_grid = {'C': [1, 5, 10, 25]}\n",
        "        print(\"grid search start\")\n",
        "        grid = GridSearchCV(LogisticRegression(random_state=0, solver='lbfgs', class_weight='balanced', max_iter=10000),\n",
        "        param_grid, cv=5)\n",
        "        print(\"done grid search\")\n",
        "        grid.fit(X, y)\n",
        "        print(\"Best cross-validation score: {:.2f}\".format(grid.best_score_))\n",
        "        print(\"Best parameters: \", grid.best_params_)\n",
        "        print(\"Best estimator: \", grid.best_estimator_)'''\n",
        "    cls = LogisticRegression(C=10, class_weight='balanced', dual=False,\n",
        "                             fit_intercept=True, intercept_scaling=1, max_iter=10000,\n",
        "                             multi_class='warn', n_jobs=None, penalty='l2', random_state=0,\n",
        "                             solver='lbfgs', tol=0.0001, verbose=0, warm_start=False)#grid.best_estimator_\n",
        "    cls.fit(X, y)\n",
        "    print(\"Parameters: \", cls.get_params)\n",
        "    print(\"Score: \", str(cls.score(X,y)))\n",
        "    return cls\n",
        "\n",
        "print(\"Done preprocessing\\n\")"
      ],
      "execution_count": 194,
      "outputs": [
        {
          "output_type": "stream",
          "text": [
            "Done preprocessing\n",
            "\n"
          ],
          "name": "stdout"
        }
      ]
    },
    {
      "cell_type": "code",
      "metadata": {
        "id": "7wAKcJ5CuTkn",
        "colab_type": "code",
        "colab": {
          "base_uri": "https://localhost:8080/",
          "height": 530
        },
        "outputId": "460f3c62-8965-4524-c0b5-797e00d25f8a"
      },
      "source": [
        "print(\"Start Training valence classifier\")\n",
        "cls_valence = train_classifier_valence(trainX, trainy)\n",
        "#cls_valence = train_bagging(trainX, trainy)\n",
        "#cls_valence = train_random(trainX, trainy)\n",
        "le_a = preprocessing.LabelEncoder()\n",
        "le_a.fit(a_train)\n",
        "target_labels_a = le_a.classes_\n",
        "trainy = le_a.transform(a_train)\n",
        "print(\"Done training valence\\n\")\n",
        "print(\"Start Training arousal classifier\")\n",
        "le_a = preprocessing.LabelEncoder()\n",
        "cls_arousal = train_classifier_arousal(trainX, trainy)\n",
        "#cls_arousal = train_bagging(trainX, trainy)\n",
        "#cls_arousal = train_random(trainX, trainy)\n",
        "print(\"\\nDone\\n\")\n",
        "print(\"______________________________________\")\n",
        "test_list = ['The food is not good, but the music is nice and service is fine']\n",
        "test = count_vect.transform(test_list)\n",
        "lr_v = cls_valence.predict(test)\n",
        "lr_a = cls_arousal.predict(test)\n",
        "print(test_list)\n",
        "print(\"Out prediction is: \")\n",
        "if(lr_v == 1 and lr_a == 1):\n",
        "    print(\"You are Happy\")\n",
        "elif(lr_v == 1 and lr_a == 0):\n",
        "    print(\"You are just Chilling\")\n",
        "elif(lr_v == 0 and lr_a == 1):\n",
        "    print(\" You are really displeased\")\n",
        "elif(lr_v == 0 and lr_a == 0):\n",
        "    print(\"You are bored or you are sad\")\n",
        "\n",
        "print(\"\\n\\n\\n\\nREADY TO ROLL!!!\\n\")"
      ],
      "execution_count": 195,
      "outputs": [
        {
          "output_type": "stream",
          "text": [
            "Start Training valence classifier\n",
            "Parameters:  <bound method BaseEstimator.get_params of LogisticRegression(C=5, class_weight='balanced', dual=False, fit_intercept=True,\n",
            "                   intercept_scaling=1, l1_ratio=None, max_iter=10000,\n",
            "                   multi_class='warn', n_jobs=None, penalty='l2',\n",
            "                   random_state=0, solver='lbfgs', tol=0.0001, verbose=0,\n",
            "                   warm_start=False)>\n",
            "Score:  0.9914047003666526\n",
            "Done training valence\n",
            "\n",
            "Start Training arousal classifier\n",
            "Parameters:  <bound method BaseEstimator.get_params of LogisticRegression(C=10, class_weight='balanced', dual=False,\n",
            "                   fit_intercept=True, intercept_scaling=1, l1_ratio=None,\n",
            "                   max_iter=10000, multi_class='warn', n_jobs=None,\n",
            "                   penalty='l2', random_state=0, solver='lbfgs', tol=0.0001,\n",
            "                   verbose=0, warm_start=False)>\n",
            "Score:  0.9962733665925347\n",
            "\n",
            "Done\n",
            "\n",
            "______________________________________\n",
            "['The food is not good, but the music is nice and service is fine']\n",
            "Out prediction is: \n",
            "You are just Chilling\n",
            "\n",
            "\n",
            "\n",
            "\n",
            "READY TO ROLL!!!\n",
            "\n"
          ],
          "name": "stdout"
        }
      ]
    },
    {
      "cell_type": "code",
      "metadata": {
        "id": "MENAEC8buWGW",
        "colab_type": "code",
        "colab": {}
      },
      "source": [
        "def demo(encoder, decoder, searcher, voc, cls_valence, cls_arousal):\n",
        "    input_sentence = ''\n",
        "    while(1):\n",
        "        try:\n",
        "            # Get input sentence\n",
        "            input_sentence = input('> ')\n",
        "            # Check if it is quit case\n",
        "            if input_sentence == 'q' or input_sentence == 'quit': break\n",
        "            # Normalize sentence\n",
        "            test_list.clear()\n",
        "            test_list.append(input_sentence)\n",
        "            test = count_vect.transform(test_list)\n",
        "            lr_v = cls_valence.predict(test)\n",
        "            lr_a = cls_arousal.predict(test)\n",
        "            if(lr_v == 0 and lr_a == 1):\n",
        "                print(\"We are connecting you directly to a customer service specialist\")\n",
        "                break\n",
        "            else:\n",
        "                input_sentence = normalizeString(input_sentence)\n",
        "                # Evaluate sentence\n",
        "                output_words = evaluate(encoder, decoder, searcher, voc, input_sentence)\n",
        "                # Format and print response sentence\n",
        "                output_words[:] = [x for x in output_words if not (x == 'EOS' or x == 'PAD')]\n",
        "                print('Bot:', ' '.join(output_words))\n",
        "                \n",
        "        except KeyError:\n",
        "            print(\"Error: Encountered unknown word.\")"
      ],
      "execution_count": 0,
      "outputs": []
    },
    {
      "cell_type": "code",
      "metadata": {
        "id": "i2QsNGFouhHa",
        "colab_type": "code",
        "colab": {
          "base_uri": "https://localhost:8080/",
          "height": 153
        },
        "outputId": "096719d6-79ea-4434-e9da-108375a342ec"
      },
      "source": [
        "demo(encoder, decoder, searcher, vocab, cls_valence, cls_arousal)"
      ],
      "execution_count": 198,
      "outputs": [
        {
          "output_type": "stream",
          "text": [
            "> hi\n",
            "Bot: hi . it . it .\n",
            "> I am happy\n",
            "Bot: i m glad you re not . your\n",
            "> I am not happy\n",
            "Bot: what s wrong with you ? that .\n",
            "> I am really mad\n",
            "We are connecting you directly to a customer service specialist\n"
          ],
          "name": "stdout"
        }
      ]
    },
    {
      "cell_type": "code",
      "metadata": {
        "id": "LiruvPBexQt3",
        "colab_type": "code",
        "colab": {}
      },
      "source": [
        "#the first generation is done"
      ],
      "execution_count": 0,
      "outputs": []
    },
    {
      "cell_type": "code",
      "metadata": {
        "id": "bTqaNUe_yQ4p",
        "colab_type": "code",
        "colab": {}
      },
      "source": [
        ""
      ],
      "execution_count": 0,
      "outputs": []
    }
  ]
}