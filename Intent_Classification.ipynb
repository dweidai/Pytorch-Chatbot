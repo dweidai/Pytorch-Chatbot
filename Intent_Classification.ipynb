{
 "cells": [
  {
   "cell_type": "code",
   "execution_count": 16,
   "metadata": {},
   "outputs": [],
   "source": [
    "import os\n",
    "import sys\n",
    "import numpy as np\n",
    "import matplotlib.pyplot as plt\n",
    "%matplotlib inline"
   ]
  },
  {
   "cell_type": "code",
   "execution_count": 17,
   "metadata": {},
   "outputs": [],
   "source": [
    "train_text = open('data/train_text.npy', 'rb')\n",
    "test_text = open('data/test_text.npy','rb')\n",
    "train_label = open('data/train_label.npy', 'rb')\n",
    "test_label = open('data/test_label.npy', 'rb')"
   ]
  },
  {
   "cell_type": "code",
   "execution_count": 18,
   "metadata": {},
   "outputs": [],
   "source": [
    "train_text = np.load(train_text, allow_pickle=True).tolist()\n",
    "test_text = np.load(test_text, allow_pickle=True).tolist()\n",
    "train_label = np.load(train_label, allow_pickle=True).tolist()\n",
    "test_label = np.load(test_label, allow_pickle=True).tolist()"
   ]
  },
  {
   "cell_type": "code",
   "execution_count": 19,
   "metadata": {},
   "outputs": [
    {
     "name": "stdout",
     "output_type": "stream",
     "text": [
      "['add another song to the cita rom ntica playlist', 'add clem burke in my playlist pre party r b jams', 'add live from aragon ballroom to trapeo', 'add unite and win to my night out', 'add track to my digster future hits', 'add the piano bar to my cindy wilson', 'add spanish harlem incident to cleaning the house', 'add the greyest of blue skies in indie espa ol my playlist', 'add the name kids in the street to the plylist new indie mix', 'add album radar latino']\n"
     ]
    }
   ],
   "source": [
    "print(train_text[0:10])"
   ]
  },
  {
   "cell_type": "code",
   "execution_count": null,
   "metadata": {},
   "outputs": [],
   "source": []
  }
 ],
 "metadata": {
  "kernelspec": {
   "display_name": "Python 3",
   "language": "python",
   "name": "python3"
  },
  "language_info": {
   "codemirror_mode": {
    "name": "ipython",
    "version": 3
   },
   "file_extension": ".py",
   "mimetype": "text/x-python",
   "name": "python",
   "nbconvert_exporter": "python",
   "pygments_lexer": "ipython3",
   "version": "3.6.8"
  }
 },
 "nbformat": 4,
 "nbformat_minor": 2
}
