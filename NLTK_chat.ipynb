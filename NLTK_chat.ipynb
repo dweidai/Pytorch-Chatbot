{
 "cells": [
  {
   "cell_type": "code",
   "execution_count": 38,
   "metadata": {},
   "outputs": [],
   "source": [
    "from nltk.chat.util import Chat, reflections\n",
    "import nltk\n",
    "import string\n",
    "import random"
   ]
  },
  {
   "cell_type": "markdown",
   "metadata": {},
   "source": [
    "# Downloading Toolkit for first time only"
   ]
  },
  {
   "cell_type": "code",
   "execution_count": 39,
   "metadata": {},
   "outputs": [],
   "source": [
    "#nltk.download('punkt')\n",
    "#nltk.download('wordnet')"
   ]
  },
  {
   "cell_type": "markdown",
   "metadata": {},
   "source": [
    "# Load Data"
   ]
  },
  {
   "cell_type": "code",
   "execution_count": 40,
   "metadata": {},
   "outputs": [],
   "source": [
    "file = open('data/formatted_movie_lines.txt','r')\n",
    "data= file.read()\n",
    "data = data.lower()\n",
    "sentence = nltk.sent_tokenize(data)\n",
    "word = nltk.word_tokenize(data)"
   ]
  },
  {
   "cell_type": "markdown",
   "metadata": {},
   "source": [
    "# Preprocessing Data"
   ]
  },
  {
   "cell_type": "code",
   "execution_count": 41,
   "metadata": {},
   "outputs": [],
   "source": [
    "from nltk.stem import WordNetLemmatizer\n",
    "from sklearn.feature_extraction.text import TfidfVectorizer\n",
    "from nltk.tokenize import RegexpTokenizer\n",
    "Regexp = RegexpTokenizer('\\w+|\\$[\\d\\.]+|\\S+')\n",
    "lemmer = nltk.stem.WordNetLemmatizer()"
   ]
  },
  {
   "cell_type": "code",
   "execution_count": 42,
   "metadata": {},
   "outputs": [],
   "source": [
    "def LemTokens(tokens):\n",
    "    return [lemmer.lemmatize(token) for token in tokens]"
   ]
  },
  {
   "cell_type": "code",
   "execution_count": 43,
   "metadata": {},
   "outputs": [],
   "source": [
    "remove_punct_dict = dict((ord(punct), None) for punct in string.punctuation)"
   ]
  },
  {
   "cell_type": "code",
   "execution_count": 44,
   "metadata": {},
   "outputs": [],
   "source": [
    "def tokenize(text):\n",
    "    return LemTokens(nltk.word_tokenize(text.lower().translate(remove_punct_dict)))"
   ]
  },
  {
   "cell_type": "code",
   "execution_count": 45,
   "metadata": {},
   "outputs": [],
   "source": [
    "GREETING_INPUTS = (\"hello\", \"hi\", \"greetings\",\"hey\",)\n",
    "GREETING_RESPONSES = [\"hi\", \"hello\", \"I am here to help you\"]\n",
    "def greeting(phrase):\n",
    "    for word in phrase.split():\n",
    "        if word.lower() in GREETING_INPUTS:\n",
    "            return random.choice(GREETING_RESPONSES)"
   ]
  },
  {
   "cell_type": "code",
   "execution_count": 48,
   "metadata": {},
   "outputs": [],
   "source": [
    "from sklearn.metrics.pairwise import cosine_similarity\n",
    "def response(user_input):\n",
    "    toReturn=''\n",
    "    sentence.append(user_input)\n",
    "    count_vect = TfidfVectorizer(ngram_range=(1,3), tokenizer= tokenize, stop_words ='english')\n",
    "    tfidf = count_vect.fit_transform(sentence)\n",
    "    vals = cosine_similarity(tfidf[-1], tfidf)\n",
    "    idx = vals.argsort()[0][-2]\n",
    "    flat = vals.flatten()\n",
    "    flat.sort()\n",
    "    req_tfidf = flat[-2]\n",
    "    if(req_tfidf==0):\n",
    "        toReturn = \"I am sorry! I don't understand you\"\n",
    "        return toReturn\n",
    "    else:\n",
    "        toReturn = toReturn+sentence[idx]\n",
    "        return toReturn"
   ]
  },
  {
   "cell_type": "code",
   "execution_count": 49,
   "metadata": {},
   "outputs": [
    {
     "name": "stdout",
     "output_type": "stream",
     "text": [
      "-: Hello! How may I help you?\n",
      "hi\n",
      "- hello\n",
      "need help\n",
      "- i need your help.\n",
      "Great\n",
      "- great to be here.\n",
      "what is your name?\n",
      "- I am sorry! I don't understand you\n",
      "how are you\n",
      "- I am sorry! I don't understand you\n",
      "it's all good\n",
      "- good.\n",
      "thank you\n",
      "- You are welcome! Anything else?\n",
      "no\n",
      "- I am sorry! I don't understand you\n",
      "bye\n",
      "-: Bye! take care..\n"
     ]
    }
   ],
   "source": [
    "flag=True\n",
    "print(\"-: Hello! How may I help you?\")\n",
    "while(flag==True):\n",
    "    user_response = input()\n",
    "    user_response=user_response.lower()\n",
    "    if(user_response!='bye'):\n",
    "        if(user_response=='thanks' or user_response=='thank you' ):\n",
    "            print(\"- You are welcome! Anything else?\")\n",
    "        else:\n",
    "            if(greeting(user_response)!=None):\n",
    "                print(\"- \"+ greeting(user_response))\n",
    "            else:\n",
    "                print(\"- \",end=\"\")\n",
    "                print(response(user_response))\n",
    "                sentence.remove(user_response)\n",
    "    else:\n",
    "        flag=False\n",
    "        print(\"-: Bye! take care..\")"
   ]
  },
  {
   "cell_type": "code",
   "execution_count": null,
   "metadata": {},
   "outputs": [],
   "source": []
  }
 ],
 "metadata": {
  "kernelspec": {
   "display_name": "Python 3",
   "language": "python",
   "name": "python3"
  },
  "language_info": {
   "codemirror_mode": {
    "name": "ipython",
    "version": 3
   },
   "file_extension": ".py",
   "mimetype": "text/x-python",
   "name": "python",
   "nbconvert_exporter": "python",
   "pygments_lexer": "ipython3",
   "version": "3.6.8"
  }
 },
 "nbformat": 4,
 "nbformat_minor": 2
}
