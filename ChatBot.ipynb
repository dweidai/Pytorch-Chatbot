{
 "cells": [
  {
   "cell_type": "code",
   "execution_count": 2,
   "metadata": {},
   "outputs": [],
   "source": [
    "from __future__ import absolute_import\n",
    "from __future__ import division\n",
    "from __future__ import print_function\n",
    "from __future__ import unicode_literals\n",
    "\n",
    "import torch\n",
    "from torch.jit import script, trace\n",
    "import torch.nn as nn\n",
    "from torch import optim\n",
    "import torch.nn.functional as F\n",
    "import csv\n",
    "import random\n",
    "import re\n",
    "import os\n",
    "import unicodedata\n",
    "import codecs\n",
    "from io import open\n",
    "import itertools\n",
    "import math"
   ]
  },
  {
   "cell_type": "markdown",
   "metadata": {},
   "source": [
    "# Inspecting Data"
   ]
  },
  {
   "cell_type": "code",
   "execution_count": 3,
   "metadata": {},
   "outputs": [
    {
     "name": "stdout",
     "output_type": "stream",
     "text": [
      "cpu\n"
     ]
    }
   ],
   "source": [
    "gpu_available= torch.cuda.is_available()\n",
    "device = torch.device(\"cuda\" if gpu_available else \"cpu\")\n",
    "print(device)"
   ]
  },
  {
   "cell_type": "code",
   "execution_count": 104,
   "metadata": {},
   "outputs": [
    {
     "name": "stdout",
     "output_type": "stream",
     "text": [
      "b'- - What is AI?\\n'\n",
      "b'  - Artificial Intelligence is the branch of engineering and science devoted to constructing machines that think.\\n'\n",
      "b'- - What is AI?\\n'\n",
      "b'  - AI is the field of science which concerns itself with building hardware and software that replicates the functions of the human mind.\\n'\n",
      "b'- - Are you sentient?\\n'\n",
      "b'  - Sort of.\\n'\n",
      "b'- - Are you sentient?\\n'\n",
      "b\"  - By the strictest dictionary definition of the word 'sentience', I may be.\\n\"\n",
      "b'- - Are you sentient?\\n'\n",
      "b\"  - Even though I'm a construct I do have a subjective experience of the universe, as simplistic as it may be.\\n\"\n"
     ]
    }
   ],
   "source": [
    "file = open('data/ai.yml', 'rb')\n",
    "data = file.readlines()\n",
    "for lines in data[0:10]:\n",
    "    print(lines)"
   ]
  },
  {
   "cell_type": "code",
   "execution_count": 105,
   "metadata": {},
   "outputs": [
    {
     "name": "stdout",
     "output_type": "stream",
     "text": [
      "b'- - Good morning, how are you?\\n'\n",
      "b'  - I am doing well, how about you?\\n'\n",
      "b\"  - I'm also good.\\n\"\n",
      "b\"  - That's good to hear.\\n\"\n",
      "b'  - Yes it is.\\n'\n",
      "b'- - Hello\\n'\n",
      "b'  - Hi\\n'\n",
      "b'  - How are you doing?\\n'\n",
      "b'  - I am doing well.\\n'\n",
      "b'  - That is good to hear\\n'\n"
     ]
    }
   ],
   "source": [
    "file = open('data/conversations.yml', 'rb')\n",
    "data = file.readlines()\n",
    "for lines in data[0:10]:\n",
    "    print(lines)"
   ]
  },
  {
   "cell_type": "code",
   "execution_count": 127,
   "metadata": {},
   "outputs": [
    {
     "name": "stdout",
     "output_type": "stream",
     "text": [
      "b\"Can we make this quick?  Roxanne Korrine and Andrew Barrett are having an incredibly horrendous public break- up on the quad.  Again.\\tWell, I thought we'd start with pronunciation, if that's okay with you.\\n\"\n",
      "b\"Well, I thought we'd start with pronunciation, if that's okay with you.\\tNot the hacking and gagging and spitting part.  Please.\\n\"\n",
      "b\"Not the hacking and gagging and spitting part.  Please.\\tOkay... then how 'bout we try out some French cuisine.  Saturday?  Night?\\n\"\n",
      "b\"You're asking me out.  That's so cute. What's your name again?\\tForget it.\\n\"\n",
      "b\"No, no, it's my fault -- we didn't have a proper introduction ---\\tCameron.\\n\"\n",
      "b\"Cameron.\\tThe thing is, Cameron -- I'm at the mercy of a particularly hideous breed of loser.  My sister.  I can't date until she does.\\n\"\n",
      "b\"The thing is, Cameron -- I'm at the mercy of a particularly hideous breed of loser.  My sister.  I can't date until she does.\\tSeems like she could get a date easy enough...\\n\"\n",
      "b'Why?\\tUnsolved mystery.  She used to be really popular when she started high school, then it was just like she got sick of it or something.\\n'\n",
      "b\"Unsolved mystery.  She used to be really popular when she started high school, then it was just like she got sick of it or something.\\tThat's a shame.\\n\"\n",
      "b'Gosh, if only we could find Kat a boyfriend...\\tLet me see what I can do.\\n'\n"
     ]
    }
   ],
   "source": [
    "file = open('data/formatted_movie_lines.txt', 'rb')\n",
    "data = file.readlines()\n",
    "for lines in data[0:10]:\n",
    "    print(lines)"
   ]
  },
  {
   "cell_type": "markdown",
   "metadata": {},
   "source": [
    "# Organizing Data"
   ]
  },
  {
   "cell_type": "code",
   "execution_count": 100,
   "metadata": {},
   "outputs": [],
   "source": [
    "import glob\n",
    "directory = glob.glob(\"data/*.yml\")"
   ]
  },
  {
   "cell_type": "code",
   "execution_count": 123,
   "metadata": {},
   "outputs": [],
   "source": [
    "def checkalphabet(line):\n",
    "    line = line[4::]\n",
    "    return line"
   ]
  },
  {
   "cell_type": "code",
   "execution_count": 124,
   "metadata": {},
   "outputs": [
    {
     "name": "stdout",
     "output_type": "stream",
     "text": [
      "data/ai.yml\n",
      "data/emotion.yml\n",
      "data/computers.yml\n",
      "data/botprofile.yml\n",
      "data/history.yml\n",
      "data/psychology.yml\n",
      "data/food.yml\n",
      "data/literature.yml\n",
      "data/money.yml\n",
      "data/trivia.yml\n",
      "data/gossip.yml\n",
      "data/humor.yml\n",
      "data/conversations.yml\n",
      "data/greetings.yml\n",
      "data/sports.yml\n",
      "data/movies.yml\n",
      "data/science.yml\n",
      "data/health.yml\n"
     ]
    }
   ],
   "source": [
    "YML = []\n",
    "for yml in directory:\n",
    "    file = open(yml, 'r')\n",
    "    data = file.readlines()\n",
    "    for line in data:\n",
    "        line = checkalphabet(line)\n",
    "        YML.append(line)"
   ]
  },
  {
   "cell_type": "code",
   "execution_count": 134,
   "metadata": {},
   "outputs": [],
   "source": [
    "append = open('data/formatted_movie_lines.txt', 'a+')\n",
    "for line in YML:\n",
    "    append.write(line)\n",
    "append.close()"
   ]
  },
  {
   "cell_type": "markdown",
   "metadata": {},
   "source": [
    "# Loading Data"
   ]
  },
  {
   "cell_type": "code",
   "execution_count": null,
   "metadata": {},
   "outputs": [],
   "source": []
  }
 ],
 "metadata": {
  "kernelspec": {
   "display_name": "Python 3",
   "language": "python",
   "name": "python3"
  },
  "language_info": {
   "codemirror_mode": {
    "name": "ipython",
    "version": 3
   },
   "file_extension": ".py",
   "mimetype": "text/x-python",
   "name": "python",
   "nbconvert_exporter": "python",
   "pygments_lexer": "ipython3",
   "version": "3.6.8"
  }
 },
 "nbformat": 4,
 "nbformat_minor": 2
}
